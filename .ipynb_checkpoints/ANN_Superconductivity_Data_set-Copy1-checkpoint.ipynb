{
 "cells": [
  {
   "cell_type": "markdown",
   "metadata": {
    "id": "3cbb7fRy-eyr"
   },
   "source": [
    "# Predict the critical temperature based on the features extracted using Artificial Neural Network"
   ]
  },
  {
   "cell_type": "markdown",
   "metadata": {
    "id": "8sNDnxE2-pwE"
   },
   "source": [
    "### Importing the libraries"
   ]
  },
  {
   "cell_type": "code",
   "execution_count": 1,
   "metadata": {
    "id": "lxChR1Rk-umf"
   },
   "outputs": [],
   "source": [
    "import numpy as np\n",
    "import pandas as pd\n",
    "import tensorflow as tf\n",
    "import seaborn as sns\n",
    "import matplotlib.pylab as plt\n",
    "%matplotlib inline"
   ]
  },
  {
   "cell_type": "markdown",
   "metadata": {
    "id": "AG3FQEch-yuA"
   },
   "source": [
    "## Part 1 - Data Preprocessing"
   ]
  },
  {
   "cell_type": "markdown",
   "metadata": {
    "id": "-4zq8Mza_D9O"
   },
   "source": [
    "### Importing the dataset"
   ]
  },
  {
   "cell_type": "code",
   "execution_count": 2,
   "metadata": {
    "id": "B9CV13Co_HHM"
   },
   "outputs": [],
   "source": [
    "dataset = pd.read_csv('train.csv')\n"
   ]
  },
  {
   "cell_type": "code",
   "execution_count": 3,
   "metadata": {
    "colab": {
     "base_uri": "https://localhost:8080/",
     "height": 244
    },
    "id": "Ah3Cb7_tIijs",
    "outputId": "bcbc208f-1d9e-4464-84f1-4eb8b6d45e46"
   },
   "outputs": [
    {
     "data": {
      "text/html": [
       "<div>\n",
       "<style scoped>\n",
       "    .dataframe tbody tr th:only-of-type {\n",
       "        vertical-align: middle;\n",
       "    }\n",
       "\n",
       "    .dataframe tbody tr th {\n",
       "        vertical-align: top;\n",
       "    }\n",
       "\n",
       "    .dataframe thead th {\n",
       "        text-align: right;\n",
       "    }\n",
       "</style>\n",
       "<table border=\"1\" class=\"dataframe\">\n",
       "  <thead>\n",
       "    <tr style=\"text-align: right;\">\n",
       "      <th></th>\n",
       "      <th>number_of_elements</th>\n",
       "      <th>mean_atomic_mass</th>\n",
       "      <th>wtd_mean_atomic_mass</th>\n",
       "      <th>gmean_atomic_mass</th>\n",
       "      <th>wtd_gmean_atomic_mass</th>\n",
       "      <th>entropy_atomic_mass</th>\n",
       "      <th>wtd_entropy_atomic_mass</th>\n",
       "      <th>range_atomic_mass</th>\n",
       "      <th>wtd_range_atomic_mass</th>\n",
       "      <th>std_atomic_mass</th>\n",
       "      <th>...</th>\n",
       "      <th>wtd_mean_Valence</th>\n",
       "      <th>gmean_Valence</th>\n",
       "      <th>wtd_gmean_Valence</th>\n",
       "      <th>entropy_Valence</th>\n",
       "      <th>wtd_entropy_Valence</th>\n",
       "      <th>range_Valence</th>\n",
       "      <th>wtd_range_Valence</th>\n",
       "      <th>std_Valence</th>\n",
       "      <th>wtd_std_Valence</th>\n",
       "      <th>critical_temp</th>\n",
       "    </tr>\n",
       "  </thead>\n",
       "  <tbody>\n",
       "    <tr>\n",
       "      <th>0</th>\n",
       "      <td>4</td>\n",
       "      <td>88.944468</td>\n",
       "      <td>57.862692</td>\n",
       "      <td>66.361592</td>\n",
       "      <td>36.116612</td>\n",
       "      <td>1.181795</td>\n",
       "      <td>1.062396</td>\n",
       "      <td>122.90607</td>\n",
       "      <td>31.794921</td>\n",
       "      <td>51.968828</td>\n",
       "      <td>...</td>\n",
       "      <td>2.257143</td>\n",
       "      <td>2.213364</td>\n",
       "      <td>2.219783</td>\n",
       "      <td>1.368922</td>\n",
       "      <td>1.066221</td>\n",
       "      <td>1</td>\n",
       "      <td>1.085714</td>\n",
       "      <td>0.433013</td>\n",
       "      <td>0.437059</td>\n",
       "      <td>29.0</td>\n",
       "    </tr>\n",
       "    <tr>\n",
       "      <th>1</th>\n",
       "      <td>5</td>\n",
       "      <td>92.729214</td>\n",
       "      <td>58.518416</td>\n",
       "      <td>73.132787</td>\n",
       "      <td>36.396602</td>\n",
       "      <td>1.449309</td>\n",
       "      <td>1.057755</td>\n",
       "      <td>122.90607</td>\n",
       "      <td>36.161939</td>\n",
       "      <td>47.094633</td>\n",
       "      <td>...</td>\n",
       "      <td>2.257143</td>\n",
       "      <td>1.888175</td>\n",
       "      <td>2.210679</td>\n",
       "      <td>1.557113</td>\n",
       "      <td>1.047221</td>\n",
       "      <td>2</td>\n",
       "      <td>1.128571</td>\n",
       "      <td>0.632456</td>\n",
       "      <td>0.468606</td>\n",
       "      <td>26.0</td>\n",
       "    </tr>\n",
       "    <tr>\n",
       "      <th>2</th>\n",
       "      <td>4</td>\n",
       "      <td>88.944468</td>\n",
       "      <td>57.885242</td>\n",
       "      <td>66.361592</td>\n",
       "      <td>36.122509</td>\n",
       "      <td>1.181795</td>\n",
       "      <td>0.975980</td>\n",
       "      <td>122.90607</td>\n",
       "      <td>35.741099</td>\n",
       "      <td>51.968828</td>\n",
       "      <td>...</td>\n",
       "      <td>2.271429</td>\n",
       "      <td>2.213364</td>\n",
       "      <td>2.232679</td>\n",
       "      <td>1.368922</td>\n",
       "      <td>1.029175</td>\n",
       "      <td>1</td>\n",
       "      <td>1.114286</td>\n",
       "      <td>0.433013</td>\n",
       "      <td>0.444697</td>\n",
       "      <td>19.0</td>\n",
       "    </tr>\n",
       "    <tr>\n",
       "      <th>3</th>\n",
       "      <td>4</td>\n",
       "      <td>88.944468</td>\n",
       "      <td>57.873967</td>\n",
       "      <td>66.361592</td>\n",
       "      <td>36.119560</td>\n",
       "      <td>1.181795</td>\n",
       "      <td>1.022291</td>\n",
       "      <td>122.90607</td>\n",
       "      <td>33.768010</td>\n",
       "      <td>51.968828</td>\n",
       "      <td>...</td>\n",
       "      <td>2.264286</td>\n",
       "      <td>2.213364</td>\n",
       "      <td>2.226222</td>\n",
       "      <td>1.368922</td>\n",
       "      <td>1.048834</td>\n",
       "      <td>1</td>\n",
       "      <td>1.100000</td>\n",
       "      <td>0.433013</td>\n",
       "      <td>0.440952</td>\n",
       "      <td>22.0</td>\n",
       "    </tr>\n",
       "    <tr>\n",
       "      <th>4</th>\n",
       "      <td>4</td>\n",
       "      <td>88.944468</td>\n",
       "      <td>57.840143</td>\n",
       "      <td>66.361592</td>\n",
       "      <td>36.110716</td>\n",
       "      <td>1.181795</td>\n",
       "      <td>1.129224</td>\n",
       "      <td>122.90607</td>\n",
       "      <td>27.848743</td>\n",
       "      <td>51.968828</td>\n",
       "      <td>...</td>\n",
       "      <td>2.242857</td>\n",
       "      <td>2.213364</td>\n",
       "      <td>2.206963</td>\n",
       "      <td>1.368922</td>\n",
       "      <td>1.096052</td>\n",
       "      <td>1</td>\n",
       "      <td>1.057143</td>\n",
       "      <td>0.433013</td>\n",
       "      <td>0.428809</td>\n",
       "      <td>23.0</td>\n",
       "    </tr>\n",
       "  </tbody>\n",
       "</table>\n",
       "<p>5 rows × 82 columns</p>\n",
       "</div>"
      ],
      "text/plain": [
       "   number_of_elements  mean_atomic_mass  wtd_mean_atomic_mass  \\\n",
       "0                   4         88.944468             57.862692   \n",
       "1                   5         92.729214             58.518416   \n",
       "2                   4         88.944468             57.885242   \n",
       "3                   4         88.944468             57.873967   \n",
       "4                   4         88.944468             57.840143   \n",
       "\n",
       "   gmean_atomic_mass  wtd_gmean_atomic_mass  entropy_atomic_mass  \\\n",
       "0          66.361592              36.116612             1.181795   \n",
       "1          73.132787              36.396602             1.449309   \n",
       "2          66.361592              36.122509             1.181795   \n",
       "3          66.361592              36.119560             1.181795   \n",
       "4          66.361592              36.110716             1.181795   \n",
       "\n",
       "   wtd_entropy_atomic_mass  range_atomic_mass  wtd_range_atomic_mass  \\\n",
       "0                 1.062396          122.90607              31.794921   \n",
       "1                 1.057755          122.90607              36.161939   \n",
       "2                 0.975980          122.90607              35.741099   \n",
       "3                 1.022291          122.90607              33.768010   \n",
       "4                 1.129224          122.90607              27.848743   \n",
       "\n",
       "   std_atomic_mass  ...  wtd_mean_Valence  gmean_Valence  wtd_gmean_Valence  \\\n",
       "0        51.968828  ...          2.257143       2.213364           2.219783   \n",
       "1        47.094633  ...          2.257143       1.888175           2.210679   \n",
       "2        51.968828  ...          2.271429       2.213364           2.232679   \n",
       "3        51.968828  ...          2.264286       2.213364           2.226222   \n",
       "4        51.968828  ...          2.242857       2.213364           2.206963   \n",
       "\n",
       "   entropy_Valence  wtd_entropy_Valence  range_Valence  wtd_range_Valence  \\\n",
       "0         1.368922             1.066221              1           1.085714   \n",
       "1         1.557113             1.047221              2           1.128571   \n",
       "2         1.368922             1.029175              1           1.114286   \n",
       "3         1.368922             1.048834              1           1.100000   \n",
       "4         1.368922             1.096052              1           1.057143   \n",
       "\n",
       "   std_Valence  wtd_std_Valence  critical_temp  \n",
       "0     0.433013         0.437059           29.0  \n",
       "1     0.632456         0.468606           26.0  \n",
       "2     0.433013         0.444697           19.0  \n",
       "3     0.433013         0.440952           22.0  \n",
       "4     0.433013         0.428809           23.0  \n",
       "\n",
       "[5 rows x 82 columns]"
      ]
     },
     "execution_count": 3,
     "metadata": {},
     "output_type": "execute_result"
    }
   ],
   "source": [
    "dataset.head()\n",
    "#"
   ]
  },
  {
   "cell_type": "code",
   "execution_count": 4,
   "metadata": {
    "colab": {
     "base_uri": "https://localhost:8080/",
     "height": 333
    },
    "id": "ZhBAiSJlALxp",
    "outputId": "cbe2f961-18b3-4b07-a58f-2bf67a792f0f"
   },
   "outputs": [
    {
     "data": {
      "text/html": [
       "<div>\n",
       "<style scoped>\n",
       "    .dataframe tbody tr th:only-of-type {\n",
       "        vertical-align: middle;\n",
       "    }\n",
       "\n",
       "    .dataframe tbody tr th {\n",
       "        vertical-align: top;\n",
       "    }\n",
       "\n",
       "    .dataframe thead th {\n",
       "        text-align: right;\n",
       "    }\n",
       "</style>\n",
       "<table border=\"1\" class=\"dataframe\">\n",
       "  <thead>\n",
       "    <tr style=\"text-align: right;\">\n",
       "      <th></th>\n",
       "      <th>number_of_elements</th>\n",
       "      <th>mean_atomic_mass</th>\n",
       "      <th>wtd_mean_atomic_mass</th>\n",
       "      <th>gmean_atomic_mass</th>\n",
       "      <th>wtd_gmean_atomic_mass</th>\n",
       "      <th>entropy_atomic_mass</th>\n",
       "      <th>wtd_entropy_atomic_mass</th>\n",
       "      <th>range_atomic_mass</th>\n",
       "      <th>wtd_range_atomic_mass</th>\n",
       "      <th>std_atomic_mass</th>\n",
       "      <th>...</th>\n",
       "      <th>wtd_mean_Valence</th>\n",
       "      <th>gmean_Valence</th>\n",
       "      <th>wtd_gmean_Valence</th>\n",
       "      <th>entropy_Valence</th>\n",
       "      <th>wtd_entropy_Valence</th>\n",
       "      <th>range_Valence</th>\n",
       "      <th>wtd_range_Valence</th>\n",
       "      <th>std_Valence</th>\n",
       "      <th>wtd_std_Valence</th>\n",
       "      <th>critical_temp</th>\n",
       "    </tr>\n",
       "  </thead>\n",
       "  <tbody>\n",
       "    <tr>\n",
       "      <th>count</th>\n",
       "      <td>21263.000000</td>\n",
       "      <td>21263.000000</td>\n",
       "      <td>21263.000000</td>\n",
       "      <td>21263.000000</td>\n",
       "      <td>21263.000000</td>\n",
       "      <td>21263.000000</td>\n",
       "      <td>21263.000000</td>\n",
       "      <td>21263.000000</td>\n",
       "      <td>21263.000000</td>\n",
       "      <td>21263.000000</td>\n",
       "      <td>...</td>\n",
       "      <td>21263.000000</td>\n",
       "      <td>21263.000000</td>\n",
       "      <td>21263.000000</td>\n",
       "      <td>21263.000000</td>\n",
       "      <td>21263.000000</td>\n",
       "      <td>21263.000000</td>\n",
       "      <td>21263.000000</td>\n",
       "      <td>21263.000000</td>\n",
       "      <td>21263.000000</td>\n",
       "      <td>21263.000000</td>\n",
       "    </tr>\n",
       "    <tr>\n",
       "      <th>mean</th>\n",
       "      <td>4.115224</td>\n",
       "      <td>87.557631</td>\n",
       "      <td>72.988310</td>\n",
       "      <td>71.290627</td>\n",
       "      <td>58.539916</td>\n",
       "      <td>1.165608</td>\n",
       "      <td>1.063884</td>\n",
       "      <td>115.601251</td>\n",
       "      <td>33.225218</td>\n",
       "      <td>44.391893</td>\n",
       "      <td>...</td>\n",
       "      <td>3.153127</td>\n",
       "      <td>3.056536</td>\n",
       "      <td>3.055885</td>\n",
       "      <td>1.295682</td>\n",
       "      <td>1.052841</td>\n",
       "      <td>2.041010</td>\n",
       "      <td>1.483007</td>\n",
       "      <td>0.839342</td>\n",
       "      <td>0.673987</td>\n",
       "      <td>34.421219</td>\n",
       "    </tr>\n",
       "    <tr>\n",
       "      <th>std</th>\n",
       "      <td>1.439295</td>\n",
       "      <td>29.676497</td>\n",
       "      <td>33.490406</td>\n",
       "      <td>31.030272</td>\n",
       "      <td>36.651067</td>\n",
       "      <td>0.364930</td>\n",
       "      <td>0.401423</td>\n",
       "      <td>54.626887</td>\n",
       "      <td>26.967752</td>\n",
       "      <td>20.035430</td>\n",
       "      <td>...</td>\n",
       "      <td>1.191249</td>\n",
       "      <td>1.046257</td>\n",
       "      <td>1.174815</td>\n",
       "      <td>0.393155</td>\n",
       "      <td>0.380291</td>\n",
       "      <td>1.242345</td>\n",
       "      <td>0.978176</td>\n",
       "      <td>0.484676</td>\n",
       "      <td>0.455580</td>\n",
       "      <td>34.254362</td>\n",
       "    </tr>\n",
       "    <tr>\n",
       "      <th>min</th>\n",
       "      <td>1.000000</td>\n",
       "      <td>6.941000</td>\n",
       "      <td>6.423452</td>\n",
       "      <td>5.320573</td>\n",
       "      <td>1.960849</td>\n",
       "      <td>0.000000</td>\n",
       "      <td>0.000000</td>\n",
       "      <td>0.000000</td>\n",
       "      <td>0.000000</td>\n",
       "      <td>0.000000</td>\n",
       "      <td>...</td>\n",
       "      <td>1.000000</td>\n",
       "      <td>1.000000</td>\n",
       "      <td>1.000000</td>\n",
       "      <td>0.000000</td>\n",
       "      <td>0.000000</td>\n",
       "      <td>0.000000</td>\n",
       "      <td>0.000000</td>\n",
       "      <td>0.000000</td>\n",
       "      <td>0.000000</td>\n",
       "      <td>0.000210</td>\n",
       "    </tr>\n",
       "    <tr>\n",
       "      <th>25%</th>\n",
       "      <td>3.000000</td>\n",
       "      <td>72.458076</td>\n",
       "      <td>52.143839</td>\n",
       "      <td>58.041225</td>\n",
       "      <td>35.248990</td>\n",
       "      <td>0.966676</td>\n",
       "      <td>0.775363</td>\n",
       "      <td>78.512902</td>\n",
       "      <td>16.824174</td>\n",
       "      <td>32.890369</td>\n",
       "      <td>...</td>\n",
       "      <td>2.116732</td>\n",
       "      <td>2.279705</td>\n",
       "      <td>2.091251</td>\n",
       "      <td>1.060857</td>\n",
       "      <td>0.775678</td>\n",
       "      <td>1.000000</td>\n",
       "      <td>0.921454</td>\n",
       "      <td>0.451754</td>\n",
       "      <td>0.306892</td>\n",
       "      <td>5.365000</td>\n",
       "    </tr>\n",
       "    <tr>\n",
       "      <th>50%</th>\n",
       "      <td>4.000000</td>\n",
       "      <td>84.922750</td>\n",
       "      <td>60.696571</td>\n",
       "      <td>66.361592</td>\n",
       "      <td>39.918385</td>\n",
       "      <td>1.199541</td>\n",
       "      <td>1.146783</td>\n",
       "      <td>122.906070</td>\n",
       "      <td>26.636008</td>\n",
       "      <td>45.123500</td>\n",
       "      <td>...</td>\n",
       "      <td>2.618182</td>\n",
       "      <td>2.615321</td>\n",
       "      <td>2.434057</td>\n",
       "      <td>1.368922</td>\n",
       "      <td>1.166532</td>\n",
       "      <td>2.000000</td>\n",
       "      <td>1.063077</td>\n",
       "      <td>0.800000</td>\n",
       "      <td>0.500000</td>\n",
       "      <td>20.000000</td>\n",
       "    </tr>\n",
       "    <tr>\n",
       "      <th>75%</th>\n",
       "      <td>5.000000</td>\n",
       "      <td>100.404410</td>\n",
       "      <td>86.103540</td>\n",
       "      <td>78.116681</td>\n",
       "      <td>73.113234</td>\n",
       "      <td>1.444537</td>\n",
       "      <td>1.359418</td>\n",
       "      <td>154.119320</td>\n",
       "      <td>38.356908</td>\n",
       "      <td>59.322812</td>\n",
       "      <td>...</td>\n",
       "      <td>4.026201</td>\n",
       "      <td>3.727919</td>\n",
       "      <td>3.914868</td>\n",
       "      <td>1.589027</td>\n",
       "      <td>1.330801</td>\n",
       "      <td>3.000000</td>\n",
       "      <td>1.918400</td>\n",
       "      <td>1.200000</td>\n",
       "      <td>1.020436</td>\n",
       "      <td>63.000000</td>\n",
       "    </tr>\n",
       "    <tr>\n",
       "      <th>max</th>\n",
       "      <td>9.000000</td>\n",
       "      <td>208.980400</td>\n",
       "      <td>208.980400</td>\n",
       "      <td>208.980400</td>\n",
       "      <td>208.980400</td>\n",
       "      <td>1.983797</td>\n",
       "      <td>1.958203</td>\n",
       "      <td>207.972460</td>\n",
       "      <td>205.589910</td>\n",
       "      <td>101.019700</td>\n",
       "      <td>...</td>\n",
       "      <td>7.000000</td>\n",
       "      <td>7.000000</td>\n",
       "      <td>7.000000</td>\n",
       "      <td>2.141963</td>\n",
       "      <td>1.949739</td>\n",
       "      <td>6.000000</td>\n",
       "      <td>6.992200</td>\n",
       "      <td>3.000000</td>\n",
       "      <td>3.000000</td>\n",
       "      <td>185.000000</td>\n",
       "    </tr>\n",
       "  </tbody>\n",
       "</table>\n",
       "<p>8 rows × 82 columns</p>\n",
       "</div>"
      ],
      "text/plain": [
       "       number_of_elements  mean_atomic_mass  wtd_mean_atomic_mass  \\\n",
       "count        21263.000000      21263.000000          21263.000000   \n",
       "mean             4.115224         87.557631             72.988310   \n",
       "std              1.439295         29.676497             33.490406   \n",
       "min              1.000000          6.941000              6.423452   \n",
       "25%              3.000000         72.458076             52.143839   \n",
       "50%              4.000000         84.922750             60.696571   \n",
       "75%              5.000000        100.404410             86.103540   \n",
       "max              9.000000        208.980400            208.980400   \n",
       "\n",
       "       gmean_atomic_mass  wtd_gmean_atomic_mass  entropy_atomic_mass  \\\n",
       "count       21263.000000           21263.000000         21263.000000   \n",
       "mean           71.290627              58.539916             1.165608   \n",
       "std            31.030272              36.651067             0.364930   \n",
       "min             5.320573               1.960849             0.000000   \n",
       "25%            58.041225              35.248990             0.966676   \n",
       "50%            66.361592              39.918385             1.199541   \n",
       "75%            78.116681              73.113234             1.444537   \n",
       "max           208.980400             208.980400             1.983797   \n",
       "\n",
       "       wtd_entropy_atomic_mass  range_atomic_mass  wtd_range_atomic_mass  \\\n",
       "count             21263.000000       21263.000000           21263.000000   \n",
       "mean                  1.063884         115.601251              33.225218   \n",
       "std                   0.401423          54.626887              26.967752   \n",
       "min                   0.000000           0.000000               0.000000   \n",
       "25%                   0.775363          78.512902              16.824174   \n",
       "50%                   1.146783         122.906070              26.636008   \n",
       "75%                   1.359418         154.119320              38.356908   \n",
       "max                   1.958203         207.972460             205.589910   \n",
       "\n",
       "       std_atomic_mass  ...  wtd_mean_Valence  gmean_Valence  \\\n",
       "count     21263.000000  ...      21263.000000   21263.000000   \n",
       "mean         44.391893  ...          3.153127       3.056536   \n",
       "std          20.035430  ...          1.191249       1.046257   \n",
       "min           0.000000  ...          1.000000       1.000000   \n",
       "25%          32.890369  ...          2.116732       2.279705   \n",
       "50%          45.123500  ...          2.618182       2.615321   \n",
       "75%          59.322812  ...          4.026201       3.727919   \n",
       "max         101.019700  ...          7.000000       7.000000   \n",
       "\n",
       "       wtd_gmean_Valence  entropy_Valence  wtd_entropy_Valence  range_Valence  \\\n",
       "count       21263.000000     21263.000000         21263.000000   21263.000000   \n",
       "mean            3.055885         1.295682             1.052841       2.041010   \n",
       "std             1.174815         0.393155             0.380291       1.242345   \n",
       "min             1.000000         0.000000             0.000000       0.000000   \n",
       "25%             2.091251         1.060857             0.775678       1.000000   \n",
       "50%             2.434057         1.368922             1.166532       2.000000   \n",
       "75%             3.914868         1.589027             1.330801       3.000000   \n",
       "max             7.000000         2.141963             1.949739       6.000000   \n",
       "\n",
       "       wtd_range_Valence   std_Valence  wtd_std_Valence  critical_temp  \n",
       "count       21263.000000  21263.000000     21263.000000   21263.000000  \n",
       "mean            1.483007      0.839342         0.673987      34.421219  \n",
       "std             0.978176      0.484676         0.455580      34.254362  \n",
       "min             0.000000      0.000000         0.000000       0.000210  \n",
       "25%             0.921454      0.451754         0.306892       5.365000  \n",
       "50%             1.063077      0.800000         0.500000      20.000000  \n",
       "75%             1.918400      1.200000         1.020436      63.000000  \n",
       "max             6.992200      3.000000         3.000000     185.000000  \n",
       "\n",
       "[8 rows x 82 columns]"
      ]
     },
     "execution_count": 4,
     "metadata": {},
     "output_type": "execute_result"
    }
   ],
   "source": [
    "dataset.describe()"
   ]
  },
  {
   "cell_type": "code",
   "execution_count": 5,
   "metadata": {
    "colab": {
     "base_uri": "https://localhost:8080/",
     "height": 538
    },
    "id": "QtyBauGmBUci",
    "outputId": "a06e8136-3780-428f-e72f-4b73c1553c4a"
   },
   "outputs": [
    {
     "data": {
      "text/plain": [
       "Index(['number_of_elements', 'mean_atomic_mass', 'wtd_mean_atomic_mass',\n",
       "       'gmean_atomic_mass', 'wtd_gmean_atomic_mass', 'entropy_atomic_mass',\n",
       "       'wtd_entropy_atomic_mass', 'range_atomic_mass', 'wtd_range_atomic_mass',\n",
       "       'std_atomic_mass', 'wtd_std_atomic_mass', 'mean_fie', 'wtd_mean_fie',\n",
       "       'gmean_fie', 'wtd_gmean_fie', 'entropy_fie', 'wtd_entropy_fie',\n",
       "       'range_fie', 'wtd_range_fie', 'std_fie', 'wtd_std_fie',\n",
       "       'mean_atomic_radius', 'wtd_mean_atomic_radius', 'gmean_atomic_radius',\n",
       "       'wtd_gmean_atomic_radius', 'entropy_atomic_radius',\n",
       "       'wtd_entropy_atomic_radius', 'range_atomic_radius',\n",
       "       'wtd_range_atomic_radius', 'std_atomic_radius', 'wtd_std_atomic_radius',\n",
       "       'mean_Density', 'wtd_mean_Density', 'gmean_Density',\n",
       "       'wtd_gmean_Density', 'entropy_Density', 'wtd_entropy_Density',\n",
       "       'range_Density', 'wtd_range_Density', 'std_Density', 'wtd_std_Density',\n",
       "       'mean_ElectronAffinity', 'wtd_mean_ElectronAffinity',\n",
       "       'gmean_ElectronAffinity', 'wtd_gmean_ElectronAffinity',\n",
       "       'entropy_ElectronAffinity', 'wtd_entropy_ElectronAffinity',\n",
       "       'range_ElectronAffinity', 'wtd_range_ElectronAffinity',\n",
       "       'std_ElectronAffinity', 'wtd_std_ElectronAffinity', 'mean_FusionHeat',\n",
       "       'wtd_mean_FusionHeat', 'gmean_FusionHeat', 'wtd_gmean_FusionHeat',\n",
       "       'entropy_FusionHeat', 'wtd_entropy_FusionHeat', 'range_FusionHeat',\n",
       "       'wtd_range_FusionHeat', 'std_FusionHeat', 'wtd_std_FusionHeat',\n",
       "       'mean_ThermalConductivity', 'wtd_mean_ThermalConductivity',\n",
       "       'gmean_ThermalConductivity', 'wtd_gmean_ThermalConductivity',\n",
       "       'entropy_ThermalConductivity', 'wtd_entropy_ThermalConductivity',\n",
       "       'range_ThermalConductivity', 'wtd_range_ThermalConductivity',\n",
       "       'std_ThermalConductivity', 'wtd_std_ThermalConductivity',\n",
       "       'mean_Valence', 'wtd_mean_Valence', 'gmean_Valence',\n",
       "       'wtd_gmean_Valence', 'entropy_Valence', 'wtd_entropy_Valence',\n",
       "       'range_Valence', 'wtd_range_Valence', 'std_Valence', 'wtd_std_Valence',\n",
       "       'critical_temp'],\n",
       "      dtype='object')"
      ]
     },
     "execution_count": 5,
     "metadata": {},
     "output_type": "execute_result"
    }
   ],
   "source": [
    "dataset.columns"
   ]
  },
  {
   "cell_type": "code",
   "execution_count": 6,
   "metadata": {
    "colab": {
     "base_uri": "https://localhost:8080/",
     "height": 443
    },
    "id": "GEiWZbVdAsJL",
    "outputId": "9b3ca730-d03f-474c-da0e-7a7e9c7daf09"
   },
   "outputs": [
    {
     "data": {
      "text/plain": [
       "<matplotlib.axes._subplots.AxesSubplot at 0x234c6a71910>"
      ]
     },
     "execution_count": 6,
     "metadata": {},
     "output_type": "execute_result"
    },
    {
     "data": {
      "image/png": "[encoded data removed]",
      "text/plain": [
       "<Figure size 432x288 with 2 Axes>"
      ]
     },
     "metadata": {
      "needs_background": "light"
     },
     "output_type": "display_data"
    }
   ],
   "source": [
    "sns.heatmap(dataset.corr())"
   ]
  },
  {
   "cell_type": "code",
   "execution_count": 7,
   "metadata": {
    "colab": {
     "base_uri": "https://localhost:8080/",
     "height": 386
    },
    "id": "lGX336vxny8S",
    "outputId": "dba843ad-44d2-4334-e499-e6fff8dd5438"
   },
   "outputs": [
    {
     "data": {
      "text/plain": [
       "<matplotlib.axes._subplots.AxesSubplot at 0x234c6505520>"
      ]
     },
     "execution_count": 7,
     "metadata": {},
     "output_type": "execute_result"
    },
    {
     "data": {
      "image/png": "[encoded data removed]",
      "text/plain": [
       "<Figure size 432x288 with 1 Axes>"
      ]
     },
     "metadata": {
      "needs_background": "light"
     },
     "output_type": "display_data"
    }
   ],
   "source": [
    " sns.distplot(dataset.critical_temp.values)"
   ]
  },
  {
   "cell_type": "markdown",
   "metadata": {
    "id": "VC6omXel_Up0"
   },
   "source": [
    "### Splitting the dataset into the Training set and Test set"
   ]
  },
  {
   "cell_type": "code",
   "execution_count": 8,
   "metadata": {
    "id": "-PyWH-m0B4OF"
   },
   "outputs": [],
   "source": [
    "X = dataset.iloc[:, :-1].values\n",
    "y = dataset.iloc[:, -1].values"
   ]
  },
  {
   "cell_type": "code",
   "execution_count": 9,
   "metadata": {
    "id": "L5edeb2r_agx"
   },
   "outputs": [],
   "source": [
    "from sklearn.model_selection import train_test_split\n",
    "X_train, X_test, y_train, y_test = train_test_split(X, y, test_size = 0.2, random_state = 42)"
   ]
  },
  {
   "cell_type": "markdown",
   "metadata": {
    "id": "u_QFOQiCLPyF"
   },
   "source": [
    "### Feature Scaling"
   ]
  },
  {
   "cell_type": "code",
   "execution_count": 10,
   "metadata": {
    "id": "n1Jpp_TnK0Ra"
   },
   "outputs": [],
   "source": [
    "from sklearn.preprocessing import MinMaxScaler\n",
    "sc = MinMaxScaler()\n",
    "X_train = sc.fit_transform(X_train)\n",
    "X_test = sc.transform(X_test)"
   ]
  },
  {
   "cell_type": "markdown",
   "metadata": {
    "id": "_mSLlAT9_eyI"
   },
   "source": [
    "## Part 2 - Building the ANN"
   ]
  },
  {
   "cell_type": "markdown",
   "metadata": {
    "id": "CsBULd_f_wLY"
   },
   "source": [
    "### Initializing the ANN"
   ]
  },
  {
   "cell_type": "code",
   "execution_count": 11,
   "metadata": {
    "id": "J6Hd97Ls__Nz"
   },
   "outputs": [],
   "source": [
    "ann = tf.keras.models.Sequential()"
   ]
  },
  {
   "cell_type": "markdown",
   "metadata": {
    "id": "iitAFJS_ABUn"
   },
   "source": [
    "### Adding the input layer and the first hidden layer"
   ]
  },
  {
   "cell_type": "code",
   "execution_count": 12,
   "metadata": {
    "id": "ksO_Vv40AHix"
   },
   "outputs": [],
   "source": [
    "ann.add(tf.keras.layers.Dense(units=512, activation='relu'))\n"
   ]
  },
  {
   "cell_type": "code",
   "execution_count": 13,
   "metadata": {
    "id": "YDz-YlJXjQVb"
   },
   "outputs": [],
   "source": [
    "#ann.add(tf.keras.layers.Dropout(0.5))"
   ]
  },
  {
   "cell_type": "markdown",
   "metadata": {
    "id": "-lb4kK_wAKbs"
   },
   "source": [
    "### Adding the second hidden layer"
   ]
  },
  {
   "cell_type": "code",
   "execution_count": 14,
   "metadata": {
    "id": "c2357OqEAQOQ"
   },
   "outputs": [],
   "source": [
    "ann.add(tf.keras.layers.Dense(units=256, activation='relu'))"
   ]
  },
  {
   "cell_type": "code",
   "execution_count": 15,
   "metadata": {
    "id": "PzERajgYkgA7"
   },
   "outputs": [],
   "source": [
    "#ann.add(tf.keras.layers.Dropout(0.5))"
   ]
  },
  {
   "cell_type": "markdown",
   "metadata": {
    "id": "cokDw-kWJFay"
   },
   "source": [
    "### Adding third hidden layer"
   ]
  },
  {
   "cell_type": "code",
   "execution_count": 16,
   "metadata": {
    "id": "Ua1lqPvLJKl5"
   },
   "outputs": [],
   "source": [
    "ann.add(tf.keras.layers.Dense(units=128, activation='relu'))\n",
    "#ann.add(tf.keras.layers.Dropout(0.5))"
   ]
  },
  {
   "cell_type": "markdown",
   "metadata": {
    "id": "jwMOmKb3AdBY"
   },
   "source": [
    "### Adding the output layer"
   ]
  },
  {
   "cell_type": "code",
   "execution_count": 17,
   "metadata": {
    "id": "YFATpzsUAkLL"
   },
   "outputs": [],
   "source": [
    "ann.add(tf.keras.layers.Dense(units=1))"
   ]
  },
  {
   "cell_type": "markdown",
   "metadata": {
    "id": "fq7e4fF6A1yy"
   },
   "source": [
    "## Part 3 - Training the ANN"
   ]
  },
  {
   "cell_type": "markdown",
   "metadata": {
    "id": "qDeylAs2An25"
   },
   "source": [
    "### Compiling the ANN"
   ]
  },
  {
   "cell_type": "code",
   "execution_count": 18,
   "metadata": {
    "id": "pesgbWlCAtB4"
   },
   "outputs": [],
   "source": [
    "ann.compile(optimizer = 'adam', loss = 'mean_squared_error')"
   ]
  },
  {
   "cell_type": "markdown",
   "metadata": {
    "id": "YjVuiybYOo7r"
   },
   "source": [
    "### Training the ANN model on the Training set"
   ]
  },
  {
   "cell_type": "code",
   "execution_count": 19,
   "metadata": {
    "colab": {
     "base_uri": "https://localhost:8080/",
     "height": 1000
    },
    "id": "c_vV-tiiA5zn",
    "outputId": "4013c53f-d8c2-4113-d1d1-0b5dcb1f76fe"
   },
   "outputs": [
    {
     "name": "stdout",
     "output_type": "stream",
     "text": [
      "Epoch 1/256\n",
      "266/266 [==============================] - 1s 3ms/step - loss: 550.2855 - val_loss: 314.1631\n",
      "Epoch 2/256\n",
      "266/266 [==============================] - 1s 3ms/step - loss: 311.3613 - val_loss: 268.8885\n",
      "Epoch 3/256\n",
      "266/266 [==============================] - 1s 3ms/step - loss: 287.7546 - val_loss: 261.4107\n",
      "Epoch 4/256\n",
      "266/266 [==============================] - 1s 2ms/step - loss: 277.0699 - val_loss: 253.7851\n",
      "Epoch 5/256\n",
      "266/266 [==============================] - 1s 3ms/step - loss: 276.4970 - val_loss: 240.1164\n",
      "Epoch 6/256\n",
      "266/266 [==============================] - 1s 3ms/step - loss: 260.8913 - val_loss: 258.0322\n",
      "Epoch 7/256\n",
      "266/266 [==============================] - 1s 3ms/step - loss: 253.3091 - val_loss: 229.6518\n",
      "Epoch 8/256\n",
      "266/266 [==============================] - 1s 3ms/step - loss: 249.5737 - val_loss: 226.2913\n",
      "Epoch 9/256\n",
      "266/266 [==============================] - 1s 3ms/step - loss: 241.5258 - val_loss: 226.0227\n",
      "Epoch 10/256\n",
      "266/266 [==============================] - 1s 3ms/step - loss: 239.2375 - val_loss: 218.9368\n",
      "Epoch 11/256\n",
      "266/266 [==============================] - 1s 3ms/step - loss: 237.7267 - val_loss: 224.9296\n",
      "Epoch 12/256\n",
      "266/266 [==============================] - 1s 3ms/step - loss: 233.9871 - val_loss: 212.6448\n",
      "Epoch 13/256\n",
      "266/266 [==============================] - 1s 3ms/step - loss: 228.0949 - val_loss: 241.3054\n",
      "Epoch 14/256\n",
      "266/266 [==============================] - 1s 3ms/step - loss: 225.3229 - val_loss: 204.3508\n",
      "Epoch 15/256\n",
      "266/266 [==============================] - 1s 3ms/step - loss: 221.6420 - val_loss: 201.6674\n",
      "Epoch 16/256\n",
      "266/266 [==============================] - 1s 3ms/step - loss: 219.0028 - val_loss: 238.7854\n",
      "Epoch 17/256\n",
      "266/266 [==============================] - 1s 3ms/step - loss: 218.5524 - val_loss: 194.4158\n",
      "Epoch 18/256\n",
      "266/266 [==============================] - 1s 3ms/step - loss: 220.8101 - val_loss: 195.4744\n",
      "Epoch 19/256\n",
      "266/266 [==============================] - 1s 3ms/step - loss: 212.0540 - val_loss: 195.2204\n",
      "Epoch 20/256\n",
      "266/266 [==============================] - 1s 3ms/step - loss: 214.8900 - val_loss: 192.2383\n",
      "Epoch 21/256\n",
      "266/266 [==============================] - 1s 3ms/step - loss: 217.8510 - val_loss: 189.8820\n",
      "Epoch 22/256\n",
      "266/266 [==============================] - 1s 3ms/step - loss: 209.1933 - val_loss: 192.7003\n",
      "Epoch 23/256\n",
      "266/266 [==============================] - 1s 3ms/step - loss: 207.2091 - val_loss: 186.8490\n",
      "Epoch 24/256\n",
      "266/266 [==============================] - 1s 3ms/step - loss: 202.1719 - val_loss: 209.4053\n",
      "Epoch 25/256\n",
      "266/266 [==============================] - 1s 3ms/step - loss: 202.4866 - val_loss: 208.4236\n",
      "Epoch 26/256\n",
      "266/266 [==============================] - 1s 3ms/step - loss: 201.6804 - val_loss: 183.0832\n",
      "Epoch 27/256\n",
      "266/266 [==============================] - 1s 3ms/step - loss: 203.1227 - val_loss: 187.8696\n",
      "Epoch 28/256\n",
      "266/266 [==============================] - 1s 3ms/step - loss: 195.2058 - val_loss: 187.7065\n",
      "Epoch 29/256\n",
      "266/266 [==============================] - 1s 3ms/step - loss: 203.2332 - val_loss: 184.8402\n",
      "Epoch 30/256\n",
      "266/266 [==============================] - 1s 4ms/step - loss: 194.0007 - val_loss: 206.9702\n",
      "Epoch 31/256\n",
      "266/266 [==============================] - 1s 3ms/step - loss: 193.2597 - val_loss: 189.2409\n",
      "Epoch 32/256\n",
      "266/266 [==============================] - 1s 3ms/step - loss: 190.4260 - val_loss: 208.9806\n",
      "Epoch 33/256\n",
      "266/266 [==============================] - 1s 3ms/step - loss: 190.8160 - val_loss: 204.8626\n",
      "Epoch 34/256\n",
      "266/266 [==============================] - 1s 3ms/step - loss: 191.6115 - val_loss: 169.6635\n",
      "Epoch 35/256\n",
      "266/266 [==============================] - 1s 3ms/step - loss: 188.9744 - val_loss: 180.6340\n",
      "Epoch 36/256\n",
      "266/266 [==============================] - 1s 3ms/step - loss: 197.2598 - val_loss: 186.4958\n",
      "Epoch 37/256\n",
      "266/266 [==============================] - 1s 3ms/step - loss: 192.0931 - val_loss: 181.5453\n",
      "Epoch 38/256\n",
      "266/266 [==============================] - 1s 3ms/step - loss: 183.8752 - val_loss: 176.4528\n",
      "Epoch 39/256\n",
      "266/266 [==============================] - 1s 3ms/step - loss: 182.2987 - val_loss: 207.9707\n",
      "Epoch 40/256\n",
      "266/266 [==============================] - 1s 3ms/step - loss: 185.0453 - val_loss: 173.9606\n",
      "Epoch 41/256\n",
      "266/266 [==============================] - 1s 3ms/step - loss: 181.3649 - val_loss: 169.5902\n",
      "Epoch 42/256\n",
      "266/266 [==============================] - 1s 3ms/step - loss: 179.7022 - val_loss: 187.9910\n",
      "Epoch 43/256\n",
      "266/266 [==============================] - 1s 3ms/step - loss: 179.8737 - val_loss: 172.1639\n",
      "Epoch 44/256\n",
      "266/266 [==============================] - 1s 3ms/step - loss: 178.1743 - val_loss: 169.0885\n",
      "Epoch 45/256\n",
      "266/266 [==============================] - 1s 3ms/step - loss: 178.7006 - val_loss: 177.0424\n",
      "Epoch 46/256\n",
      "266/266 [==============================] - 1s 3ms/step - loss: 181.8996 - val_loss: 178.5232\n",
      "Epoch 47/256\n",
      "266/266 [==============================] - 1s 3ms/step - loss: 176.3126 - val_loss: 168.8191\n",
      "Epoch 48/256\n",
      "266/266 [==============================] - 1s 3ms/step - loss: 172.9651 - val_loss: 172.4213\n",
      "Epoch 49/256\n",
      "266/266 [==============================] - 1s 3ms/step - loss: 176.1543 - val_loss: 195.5797\n",
      "Epoch 50/256\n",
      "266/266 [==============================] - 1s 3ms/step - loss: 177.3015 - val_loss: 163.4070\n",
      "Epoch 51/256\n",
      "266/266 [==============================] - 1s 3ms/step - loss: 175.6273 - val_loss: 161.6516\n",
      "Epoch 52/256\n",
      "266/266 [==============================] - 1s 3ms/step - loss: 175.8025 - val_loss: 175.1403\n",
      "Epoch 53/256\n",
      "266/266 [==============================] - 1s 3ms/step - loss: 169.1002 - val_loss: 171.1936\n",
      "Epoch 54/256\n",
      "266/266 [==============================] - 1s 3ms/step - loss: 174.2400 - val_loss: 181.7506\n",
      "Epoch 55/256\n",
      "266/266 [==============================] - 1s 3ms/step - loss: 170.6663 - val_loss: 197.2780\n",
      "Epoch 56/256\n",
      "266/266 [==============================] - 1s 3ms/step - loss: 170.1696 - val_loss: 173.0216\n",
      "Epoch 57/256\n",
      "266/266 [==============================] - 1s 3ms/step - loss: 168.1636 - val_loss: 159.0775\n",
      "Epoch 58/256\n",
      "266/266 [==============================] - 1s 3ms/step - loss: 168.5836 - val_loss: 176.8682\n",
      "Epoch 59/256\n",
      "266/266 [==============================] - 1s 3ms/step - loss: 165.6791 - val_loss: 168.7979\n",
      "Epoch 60/256\n",
      "266/266 [==============================] - 1s 3ms/step - loss: 166.2797 - val_loss: 155.9210\n",
      "Epoch 61/256\n",
      "266/266 [==============================] - 1s 3ms/step - loss: 165.9998 - val_loss: 158.6585\n",
      "Epoch 62/256\n",
      "266/266 [==============================] - 1s 3ms/step - loss: 163.9690 - val_loss: 163.7638\n",
      "Epoch 63/256\n",
      "266/266 [==============================] - 1s 3ms/step - loss: 162.1917 - val_loss: 161.9779\n",
      "Epoch 64/256\n",
      "266/266 [==============================] - 1s 3ms/step - loss: 171.2051 - val_loss: 164.7441\n",
      "Epoch 65/256\n",
      "266/266 [==============================] - 1s 3ms/step - loss: 165.1151 - val_loss: 160.5803\n",
      "Epoch 66/256\n",
      "266/266 [==============================] - 1s 3ms/step - loss: 161.3464 - val_loss: 159.3384\n",
      "Epoch 67/256\n",
      "266/266 [==============================] - 1s 3ms/step - loss: 160.7637 - val_loss: 165.0896\n",
      "Epoch 68/256\n",
      "266/266 [==============================] - 1s 3ms/step - loss: 162.9711 - val_loss: 155.0552\n",
      "Epoch 69/256\n",
      "266/266 [==============================] - 1s 3ms/step - loss: 159.4938 - val_loss: 156.9373\n",
      "Epoch 70/256\n",
      "266/266 [==============================] - 1s 3ms/step - loss: 158.5122 - val_loss: 163.1393\n",
      "Epoch 71/256\n",
      "266/266 [==============================] - 1s 3ms/step - loss: 170.6274 - val_loss: 200.1401\n",
      "Epoch 72/256\n",
      "266/266 [==============================] - 1s 3ms/step - loss: 158.8833 - val_loss: 189.1765\n",
      "Epoch 73/256\n",
      "266/266 [==============================] - 1s 3ms/step - loss: 162.3448 - val_loss: 158.3980\n",
      "Epoch 74/256\n",
      "266/266 [==============================] - 1s 3ms/step - loss: 156.5529 - val_loss: 158.2287\n",
      "Epoch 75/256\n",
      "266/266 [==============================] - 1s 3ms/step - loss: 164.3020 - val_loss: 159.0651\n",
      "Epoch 76/256\n",
      "266/266 [==============================] - 1s 3ms/step - loss: 158.4379 - val_loss: 148.9945\n",
      "Epoch 77/256\n",
      "266/266 [==============================] - 1s 3ms/step - loss: 157.4908 - val_loss: 153.2807\n",
      "Epoch 78/256\n"
     ]
    },
    {
     "name": "stdout",
     "output_type": "stream",
     "text": [
      "266/266 [==============================] - 1s 3ms/step - loss: 153.0175 - val_loss: 152.0188\n",
      "Epoch 79/256\n",
      "266/266 [==============================] - 1s 3ms/step - loss: 154.7465 - val_loss: 162.2427\n",
      "Epoch 80/256\n",
      "266/266 [==============================] - 1s 3ms/step - loss: 154.0729 - val_loss: 155.5576\n",
      "Epoch 81/256\n",
      "266/266 [==============================] - 1s 3ms/step - loss: 154.5445 - val_loss: 176.2951\n",
      "Epoch 82/256\n",
      "266/266 [==============================] - 1s 3ms/step - loss: 153.9816 - val_loss: 158.4478\n",
      "Epoch 83/256\n",
      "266/266 [==============================] - 1s 3ms/step - loss: 150.3210 - val_loss: 148.5006\n",
      "Epoch 84/256\n",
      "266/266 [==============================] - 1s 3ms/step - loss: 152.9584 - val_loss: 155.4491\n",
      "Epoch 85/256\n",
      "266/266 [==============================] - 1s 3ms/step - loss: 155.4431 - val_loss: 170.3791\n",
      "Epoch 86/256\n",
      "266/266 [==============================] - 1s 3ms/step - loss: 153.8843 - val_loss: 152.3601\n",
      "Epoch 87/256\n",
      "266/266 [==============================] - 1s 3ms/step - loss: 152.1019 - val_loss: 149.1669\n",
      "Epoch 88/256\n",
      "266/266 [==============================] - 1s 3ms/step - loss: 157.7081 - val_loss: 150.2859\n",
      "Epoch 89/256\n",
      "266/266 [==============================] - 1s 3ms/step - loss: 151.7011 - val_loss: 146.5557\n",
      "Epoch 90/256\n",
      "266/266 [==============================] - 1s 3ms/step - loss: 148.0745 - val_loss: 151.3394\n",
      "Epoch 91/256\n",
      "266/266 [==============================] - 1s 3ms/step - loss: 150.3447 - val_loss: 141.5482\n",
      "Epoch 92/256\n",
      "266/266 [==============================] - 1s 3ms/step - loss: 149.7311 - val_loss: 159.0118\n",
      "Epoch 93/256\n",
      "266/266 [==============================] - 1s 3ms/step - loss: 149.6185 - val_loss: 150.0397\n",
      "Epoch 94/256\n",
      "266/266 [==============================] - 1s 3ms/step - loss: 150.7970 - val_loss: 152.4901\n",
      "Epoch 95/256\n",
      "266/266 [==============================] - 1s 3ms/step - loss: 149.9494 - val_loss: 148.3392\n",
      "Epoch 96/256\n",
      "266/266 [==============================] - 1s 3ms/step - loss: 150.9065 - val_loss: 153.7680\n",
      "Epoch 97/256\n",
      "266/266 [==============================] - 1s 3ms/step - loss: 145.7830 - val_loss: 152.0591\n",
      "Epoch 98/256\n",
      "266/266 [==============================] - 1s 3ms/step - loss: 147.5919 - val_loss: 152.9596\n",
      "Epoch 99/256\n",
      "266/266 [==============================] - 1s 3ms/step - loss: 148.9764 - val_loss: 163.7529\n",
      "Epoch 100/256\n",
      "266/266 [==============================] - 1s 3ms/step - loss: 144.9290 - val_loss: 164.8379\n",
      "Epoch 101/256\n",
      "266/266 [==============================] - 1s 3ms/step - loss: 149.9013 - val_loss: 156.4584\n",
      "Epoch 102/256\n",
      "266/266 [==============================] - 1s 3ms/step - loss: 142.3614 - val_loss: 140.8297\n",
      "Epoch 103/256\n",
      "266/266 [==============================] - 1s 3ms/step - loss: 143.6560 - val_loss: 176.8897\n",
      "Epoch 104/256\n",
      "266/266 [==============================] - 1s 3ms/step - loss: 143.4933 - val_loss: 151.5903\n",
      "Epoch 105/256\n",
      "266/266 [==============================] - 1s 3ms/step - loss: 146.4605 - val_loss: 143.6236\n",
      "Epoch 106/256\n",
      "266/266 [==============================] - 1s 3ms/step - loss: 147.1751 - val_loss: 142.5752\n",
      "Epoch 107/256\n",
      "266/266 [==============================] - 1s 3ms/step - loss: 145.3940 - val_loss: 147.1100\n",
      "Epoch 108/256\n",
      "266/266 [==============================] - 1s 3ms/step - loss: 145.4548 - val_loss: 137.6951\n",
      "Epoch 109/256\n",
      "266/266 [==============================] - 1s 3ms/step - loss: 143.8861 - val_loss: 145.4223\n",
      "Epoch 110/256\n",
      "266/266 [==============================] - 1s 3ms/step - loss: 143.4147 - val_loss: 148.7184\n",
      "Epoch 111/256\n",
      "266/266 [==============================] - 1s 3ms/step - loss: 139.0878 - val_loss: 150.3984\n",
      "Epoch 112/256\n",
      "266/266 [==============================] - 1s 3ms/step - loss: 140.8694 - val_loss: 137.4362\n",
      "Epoch 113/256\n",
      "266/266 [==============================] - 1s 3ms/step - loss: 136.6388 - val_loss: 162.9415\n",
      "Epoch 114/256\n",
      "266/266 [==============================] - 1s 3ms/step - loss: 140.3209 - val_loss: 154.3989\n",
      "Epoch 115/256\n",
      "266/266 [==============================] - 1s 3ms/step - loss: 139.0629 - val_loss: 145.0865\n",
      "Epoch 116/256\n",
      "266/266 [==============================] - 1s 3ms/step - loss: 135.8315 - val_loss: 135.8416\n",
      "Epoch 117/256\n",
      "266/266 [==============================] - 1s 3ms/step - loss: 141.6455 - val_loss: 153.5422\n",
      "Epoch 118/256\n",
      "266/266 [==============================] - 1s 3ms/step - loss: 137.0262 - val_loss: 142.8647\n",
      "Epoch 119/256\n",
      "266/266 [==============================] - 1s 3ms/step - loss: 136.3504 - val_loss: 143.3913\n",
      "Epoch 120/256\n",
      "266/266 [==============================] - 1s 3ms/step - loss: 136.7759 - val_loss: 135.1412\n",
      "Epoch 121/256\n",
      "266/266 [==============================] - 1s 3ms/step - loss: 136.4110 - val_loss: 145.4273\n",
      "Epoch 122/256\n",
      "266/266 [==============================] - 1s 3ms/step - loss: 135.3954 - val_loss: 138.6734\n",
      "Epoch 123/256\n",
      "266/266 [==============================] - 1s 3ms/step - loss: 132.8980 - val_loss: 148.8625\n",
      "Epoch 124/256\n",
      "266/266 [==============================] - 1s 3ms/step - loss: 133.8307 - val_loss: 138.1765\n",
      "Epoch 125/256\n",
      "266/266 [==============================] - 1s 3ms/step - loss: 132.2947 - val_loss: 131.8929\n",
      "Epoch 126/256\n",
      "266/266 [==============================] - 1s 3ms/step - loss: 132.2072 - val_loss: 138.9772\n",
      "Epoch 127/256\n",
      "266/266 [==============================] - 1s 3ms/step - loss: 131.3348 - val_loss: 133.3491\n",
      "Epoch 128/256\n",
      "266/266 [==============================] - 1s 3ms/step - loss: 133.1520 - val_loss: 137.8223\n",
      "Epoch 129/256\n",
      "266/266 [==============================] - 1s 3ms/step - loss: 136.4310 - val_loss: 148.0249\n",
      "Epoch 130/256\n",
      "266/266 [==============================] - 1s 3ms/step - loss: 137.5902 - val_loss: 160.6180\n",
      "Epoch 131/256\n",
      "266/266 [==============================] - 1s 3ms/step - loss: 132.8901 - val_loss: 140.4204\n",
      "Epoch 132/256\n",
      "266/266 [==============================] - 1s 3ms/step - loss: 129.0560 - val_loss: 137.7881\n",
      "Epoch 133/256\n",
      "266/266 [==============================] - 1s 3ms/step - loss: 127.7588 - val_loss: 143.1398\n",
      "Epoch 134/256\n",
      "266/266 [==============================] - 1s 3ms/step - loss: 129.5560 - val_loss: 129.8910\n",
      "Epoch 135/256\n",
      "266/266 [==============================] - 1s 3ms/step - loss: 125.4614 - val_loss: 139.6760\n",
      "Epoch 136/256\n",
      "266/266 [==============================] - 1s 3ms/step - loss: 127.7523 - val_loss: 144.7329\n",
      "Epoch 137/256\n",
      "266/266 [==============================] - 1s 3ms/step - loss: 124.3700 - val_loss: 134.8289\n",
      "Epoch 138/256\n",
      "266/266 [==============================] - 1s 3ms/step - loss: 125.3129 - val_loss: 128.7946\n",
      "Epoch 139/256\n",
      "266/266 [==============================] - 1s 3ms/step - loss: 127.6079 - val_loss: 126.8519\n",
      "Epoch 140/256\n",
      "266/266 [==============================] - 1s 3ms/step - loss: 128.3405 - val_loss: 131.9110\n",
      "Epoch 141/256\n",
      "266/266 [==============================] - 1s 3ms/step - loss: 123.1999 - val_loss: 141.3877\n",
      "Epoch 142/256\n",
      "266/266 [==============================] - 1s 3ms/step - loss: 125.8033 - val_loss: 133.2179\n",
      "Epoch 143/256\n",
      "266/266 [==============================] - 1s 4ms/step - loss: 124.1389 - val_loss: 132.2794\n",
      "Epoch 144/256\n",
      "266/266 [==============================] - 1s 3ms/step - loss: 125.6246 - val_loss: 127.5434\n",
      "Epoch 145/256\n",
      "266/266 [==============================] - 1s 3ms/step - loss: 122.5708 - val_loss: 172.8046\n",
      "Epoch 146/256\n",
      "266/266 [==============================] - 1s 3ms/step - loss: 127.0063 - val_loss: 134.8527\n",
      "Epoch 147/256\n",
      "266/266 [==============================] - 1s 3ms/step - loss: 125.1188 - val_loss: 141.3511\n",
      "Epoch 148/256\n",
      "266/266 [==============================] - 1s 3ms/step - loss: 121.2205 - val_loss: 125.9467\n",
      "Epoch 149/256\n",
      "266/266 [==============================] - 1s 3ms/step - loss: 125.3206 - val_loss: 132.5510\n",
      "Epoch 150/256\n",
      "266/266 [==============================] - 1s 3ms/step - loss: 118.7276 - val_loss: 128.1233\n",
      "Epoch 151/256\n",
      "266/266 [==============================] - 1s 3ms/step - loss: 120.4226 - val_loss: 125.7538\n",
      "Epoch 152/256\n",
      "266/266 [==============================] - 1s 3ms/step - loss: 124.1730 - val_loss: 130.2388\n",
      "Epoch 153/256\n",
      "266/266 [==============================] - 1s 3ms/step - loss: 123.9773 - val_loss: 130.6911\n",
      "Epoch 154/256\n",
      "266/266 [==============================] - 1s 3ms/step - loss: 119.8532 - val_loss: 150.1981\n"
     ]
    },
    {
     "name": "stdout",
     "output_type": "stream",
     "text": [
      "Epoch 155/256\n",
      "266/266 [==============================] - 1s 3ms/step - loss: 121.4958 - val_loss: 156.5697\n",
      "Epoch 156/256\n",
      "266/266 [==============================] - 1s 3ms/step - loss: 119.0704 - val_loss: 131.9281\n",
      "Epoch 157/256\n",
      "266/266 [==============================] - 1s 3ms/step - loss: 120.1942 - val_loss: 124.9397\n",
      "Epoch 158/256\n",
      "266/266 [==============================] - 1s 3ms/step - loss: 122.6159 - val_loss: 140.5170\n",
      "Epoch 159/256\n",
      "266/266 [==============================] - 1s 3ms/step - loss: 118.9494 - val_loss: 168.6648\n",
      "Epoch 160/256\n",
      "266/266 [==============================] - 1s 3ms/step - loss: 120.8522 - val_loss: 131.0625\n",
      "Epoch 161/256\n",
      "266/266 [==============================] - 1s 3ms/step - loss: 121.5872 - val_loss: 130.7625\n",
      "Epoch 162/256\n",
      "266/266 [==============================] - 1s 3ms/step - loss: 119.6441 - val_loss: 128.1979\n",
      "Epoch 163/256\n",
      "266/266 [==============================] - 1s 3ms/step - loss: 121.9955 - val_loss: 133.1141\n",
      "Epoch 164/256\n",
      "266/266 [==============================] - 1s 3ms/step - loss: 118.6802 - val_loss: 127.6701\n",
      "Epoch 165/256\n",
      "266/266 [==============================] - 1s 3ms/step - loss: 119.2159 - val_loss: 128.7633\n",
      "Epoch 166/256\n",
      "266/266 [==============================] - 1s 3ms/step - loss: 119.2053 - val_loss: 130.6155\n",
      "Epoch 167/256\n",
      "266/266 [==============================] - 1s 3ms/step - loss: 116.8909 - val_loss: 140.2758\n",
      "Epoch 168/256\n",
      "266/266 [==============================] - 1s 3ms/step - loss: 117.5039 - val_loss: 123.2801\n",
      "Epoch 169/256\n",
      "266/266 [==============================] - 1s 3ms/step - loss: 124.4689 - val_loss: 130.8578\n",
      "Epoch 170/256\n",
      "266/266 [==============================] - 1s 3ms/step - loss: 114.3924 - val_loss: 122.3775\n",
      "Epoch 171/256\n",
      "266/266 [==============================] - 1s 3ms/step - loss: 117.0530 - val_loss: 134.7905\n",
      "Epoch 172/256\n",
      "266/266 [==============================] - 1s 3ms/step - loss: 112.1241 - val_loss: 122.8228\n",
      "Epoch 173/256\n",
      "266/266 [==============================] - 1s 3ms/step - loss: 115.9979 - val_loss: 118.6112\n",
      "Epoch 174/256\n",
      "266/266 [==============================] - 1s 3ms/step - loss: 117.0925 - val_loss: 124.5033\n",
      "Epoch 175/256\n",
      "266/266 [==============================] - 1s 3ms/step - loss: 117.3923 - val_loss: 130.2449\n",
      "Epoch 176/256\n",
      "266/266 [==============================] - 1s 3ms/step - loss: 111.0033 - val_loss: 125.0113\n",
      "Epoch 177/256\n",
      "266/266 [==============================] - 1s 3ms/step - loss: 121.4888 - val_loss: 119.2404\n",
      "Epoch 178/256\n",
      "266/266 [==============================] - 1s 3ms/step - loss: 111.9579 - val_loss: 121.9078\n",
      "Epoch 179/256\n",
      "266/266 [==============================] - 1s 3ms/step - loss: 109.3471 - val_loss: 136.4634\n",
      "Epoch 180/256\n",
      "266/266 [==============================] - 1s 3ms/step - loss: 110.1213 - val_loss: 123.0409\n",
      "Epoch 181/256\n",
      "266/266 [==============================] - 1s 3ms/step - loss: 112.6270 - val_loss: 121.4252\n",
      "Epoch 182/256\n",
      "266/266 [==============================] - 1s 3ms/step - loss: 109.6562 - val_loss: 122.0607\n",
      "Epoch 183/256\n",
      "266/266 [==============================] - 1s 3ms/step - loss: 115.0793 - val_loss: 117.1442\n",
      "Epoch 184/256\n",
      "266/266 [==============================] - 1s 3ms/step - loss: 117.2032 - val_loss: 126.7850\n",
      "Epoch 185/256\n",
      "266/266 [==============================] - 1s 3ms/step - loss: 112.7854 - val_loss: 122.8875\n",
      "Epoch 186/256\n",
      "266/266 [==============================] - 1s 3ms/step - loss: 107.8268 - val_loss: 118.0373\n",
      "Epoch 187/256\n",
      "266/266 [==============================] - 1s 3ms/step - loss: 115.5489 - val_loss: 131.9420\n",
      "Epoch 188/256\n",
      "266/266 [==============================] - 1s 3ms/step - loss: 112.4708 - val_loss: 125.1268\n",
      "Epoch 189/256\n",
      "266/266 [==============================] - 1s 3ms/step - loss: 110.0052 - val_loss: 133.4473\n",
      "Epoch 190/256\n",
      "266/266 [==============================] - 1s 3ms/step - loss: 110.0073 - val_loss: 125.3667\n",
      "Epoch 191/256\n",
      "266/266 [==============================] - 1s 3ms/step - loss: 114.5339 - val_loss: 131.5794\n",
      "Epoch 192/256\n",
      "266/266 [==============================] - 1s 3ms/step - loss: 113.0291 - val_loss: 167.6875\n",
      "Epoch 193/256\n",
      "266/266 [==============================] - 1s 3ms/step - loss: 110.9482 - val_loss: 119.4640\n",
      "Epoch 194/256\n",
      "266/266 [==============================] - 1s 3ms/step - loss: 112.1165 - val_loss: 116.0111\n",
      "Epoch 195/256\n",
      "266/266 [==============================] - 1s 3ms/step - loss: 111.8597 - val_loss: 139.1808\n",
      "Epoch 196/256\n",
      "266/266 [==============================] - 1s 3ms/step - loss: 111.8357 - val_loss: 122.4226\n",
      "Epoch 197/256\n",
      "266/266 [==============================] - 1s 3ms/step - loss: 106.9251 - val_loss: 127.6433\n",
      "Epoch 198/256\n",
      "266/266 [==============================] - 1s 3ms/step - loss: 108.5935 - val_loss: 122.8973\n",
      "Epoch 199/256\n",
      "266/266 [==============================] - 1s 3ms/step - loss: 110.4835 - val_loss: 133.2924\n",
      "Epoch 200/256\n",
      "266/266 [==============================] - 1s 3ms/step - loss: 106.3709 - val_loss: 137.4859\n",
      "Epoch 201/256\n",
      "266/266 [==============================] - 1s 4ms/step - loss: 108.5923 - val_loss: 154.6460\n",
      "Epoch 202/256\n",
      "266/266 [==============================] - 1s 3ms/step - loss: 106.6705 - val_loss: 124.4751\n",
      "Epoch 203/256\n",
      "266/266 [==============================] - 1s 3ms/step - loss: 109.8789 - val_loss: 122.6342\n",
      "Epoch 204/256\n",
      "266/266 [==============================] - 1s 3ms/step - loss: 104.5600 - val_loss: 125.0150\n",
      "Epoch 205/256\n",
      "266/266 [==============================] - 1s 3ms/step - loss: 110.4383 - val_loss: 155.3996\n",
      "Epoch 206/256\n",
      "266/266 [==============================] - 1s 3ms/step - loss: 112.1886 - val_loss: 133.6676\n",
      "Epoch 207/256\n",
      "266/266 [==============================] - 1s 3ms/step - loss: 107.7794 - val_loss: 111.2100\n",
      "Epoch 208/256\n",
      "266/266 [==============================] - 1s 3ms/step - loss: 106.1422 - val_loss: 116.6551\n",
      "Epoch 209/256\n",
      "266/266 [==============================] - 1s 3ms/step - loss: 109.3731 - val_loss: 131.3249\n",
      "Epoch 210/256\n",
      "266/266 [==============================] - 1s 3ms/step - loss: 104.2787 - val_loss: 118.2985\n",
      "Epoch 211/256\n",
      "266/266 [==============================] - 1s 3ms/step - loss: 105.1932 - val_loss: 121.3037\n",
      "Epoch 212/256\n",
      "266/266 [==============================] - 1s 3ms/step - loss: 103.9931 - val_loss: 124.7196\n",
      "Epoch 213/256\n",
      "266/266 [==============================] - 1s 3ms/step - loss: 106.3629 - val_loss: 123.9425\n",
      "Epoch 214/256\n",
      "266/266 [==============================] - 1s 3ms/step - loss: 108.5557 - val_loss: 127.8814\n",
      "Epoch 215/256\n",
      "266/266 [==============================] - 1s 3ms/step - loss: 104.4039 - val_loss: 122.1790\n",
      "Epoch 216/256\n",
      "266/266 [==============================] - 1s 3ms/step - loss: 103.6713 - val_loss: 124.0720\n",
      "Epoch 217/256\n",
      "266/266 [==============================] - 1s 3ms/step - loss: 104.0840 - val_loss: 114.5012\n",
      "Epoch 218/256\n",
      "266/266 [==============================] - 1s 3ms/step - loss: 103.1933 - val_loss: 113.6750\n",
      "Epoch 219/256\n",
      "266/266 [==============================] - 1s 3ms/step - loss: 106.3345 - val_loss: 118.2344\n",
      "Epoch 220/256\n",
      "266/266 [==============================] - 1s 3ms/step - loss: 105.2280 - val_loss: 119.1334\n",
      "Epoch 221/256\n",
      "266/266 [==============================] - 1s 3ms/step - loss: 104.1057 - val_loss: 126.6275\n",
      "Epoch 222/256\n",
      "266/266 [==============================] - 1s 3ms/step - loss: 107.7500 - val_loss: 116.6781\n",
      "Epoch 223/256\n",
      "266/266 [==============================] - 1s 3ms/step - loss: 106.4917 - val_loss: 127.2760\n",
      "Epoch 224/256\n",
      "266/266 [==============================] - 1s 3ms/step - loss: 101.6914 - val_loss: 113.8780\n",
      "Epoch 225/256\n",
      "266/266 [==============================] - 1s 3ms/step - loss: 104.0967 - val_loss: 119.0347\n",
      "Epoch 226/256\n",
      "266/266 [==============================] - 1s 3ms/step - loss: 104.3781 - val_loss: 122.1122\n",
      "Epoch 227/256\n",
      "266/266 [==============================] - 1s 3ms/step - loss: 102.3762 - val_loss: 115.6229\n",
      "Epoch 228/256\n",
      "266/266 [==============================] - 1s 3ms/step - loss: 100.6380 - val_loss: 125.3447\n",
      "Epoch 229/256\n",
      "266/266 [==============================] - 1s 3ms/step - loss: 101.7003 - val_loss: 114.7650\n",
      "Epoch 230/256\n",
      "266/266 [==============================] - 1s 3ms/step - loss: 102.4123 - val_loss: 127.2772\n",
      "Epoch 231/256\n"
     ]
    },
    {
     "name": "stdout",
     "output_type": "stream",
     "text": [
      "266/266 [==============================] - 1s 3ms/step - loss: 100.4137 - val_loss: 113.1450\n",
      "Epoch 232/256\n",
      "266/266 [==============================] - 1s 3ms/step - loss: 101.2663 - val_loss: 129.5086\n",
      "Epoch 233/256\n",
      "266/266 [==============================] - 1s 3ms/step - loss: 99.0364 - val_loss: 115.5685\n",
      "Epoch 234/256\n",
      "266/266 [==============================] - 1s 3ms/step - loss: 100.9031 - val_loss: 134.1201\n",
      "Epoch 235/256\n",
      "266/266 [==============================] - 1s 3ms/step - loss: 102.7913 - val_loss: 125.6200\n",
      "Epoch 236/256\n",
      "266/266 [==============================] - 1s 3ms/step - loss: 99.2083 - val_loss: 112.5038\n",
      "Epoch 237/256\n",
      "266/266 [==============================] - 1s 3ms/step - loss: 104.7842 - val_loss: 118.4928\n",
      "Epoch 238/256\n",
      "266/266 [==============================] - 1s 3ms/step - loss: 103.8342 - val_loss: 114.2813\n",
      "Epoch 239/256\n",
      "266/266 [==============================] - 1s 3ms/step - loss: 98.2459 - val_loss: 118.7497\n",
      "Epoch 240/256\n",
      "266/266 [==============================] - 1s 3ms/step - loss: 99.9859 - val_loss: 137.5062\n",
      "Epoch 241/256\n",
      "266/266 [==============================] - 1s 3ms/step - loss: 102.6445 - val_loss: 108.3344\n",
      "Epoch 242/256\n",
      "266/266 [==============================] - 1s 3ms/step - loss: 97.7842 - val_loss: 121.1521\n",
      "Epoch 243/256\n",
      "266/266 [==============================] - 1s 3ms/step - loss: 100.1861 - val_loss: 125.8114\n",
      "Epoch 244/256\n",
      "266/266 [==============================] - 1s 3ms/step - loss: 97.6713 - val_loss: 110.0310\n",
      "Epoch 245/256\n",
      "266/266 [==============================] - 1s 3ms/step - loss: 95.3776 - val_loss: 118.5345\n",
      "Epoch 246/256\n",
      "266/266 [==============================] - 1s 3ms/step - loss: 96.4649 - val_loss: 112.9619\n",
      "Epoch 247/256\n",
      "266/266 [==============================] - 1s 3ms/step - loss: 100.7393 - val_loss: 131.7302\n",
      "Epoch 248/256\n",
      "266/266 [==============================] - 1s 3ms/step - loss: 99.4602 - val_loss: 109.7100\n",
      "Epoch 249/256\n",
      "266/266 [==============================] - 1s 3ms/step - loss: 99.8505 - val_loss: 111.0923\n",
      "Epoch 250/256\n",
      "266/266 [==============================] - 1s 3ms/step - loss: 98.2908 - val_loss: 123.8393\n",
      "Epoch 251/256\n",
      "266/266 [==============================] - 1s 3ms/step - loss: 97.8994 - val_loss: 111.6629\n",
      "Epoch 252/256\n",
      "266/266 [==============================] - 1s 3ms/step - loss: 96.7382 - val_loss: 111.9911\n",
      "Epoch 253/256\n",
      "266/266 [==============================] - 1s 3ms/step - loss: 100.0305 - val_loss: 122.0397\n",
      "Epoch 254/256\n",
      "266/266 [==============================] - 1s 3ms/step - loss: 99.1129 - val_loss: 113.2637\n",
      "Epoch 255/256\n",
      "266/266 [==============================] - 1s 3ms/step - loss: 96.6108 - val_loss: 115.1173\n",
      "Epoch 256/256\n",
      "266/266 [==============================] - 1s 3ms/step - loss: 95.8305 - val_loss: 114.1627\n"
     ]
    }
   ],
   "source": [
    "history = ann.fit(X_train, y_train, validation_data = (X_test,y_test), batch_size = 64, epochs = 256)"
   ]
  },
  {
   "cell_type": "markdown",
   "metadata": {
    "id": "0H0zKKNEBLD5"
   },
   "source": [
    "### Predicting the results of the Test set"
   ]
  },
  {
   "cell_type": "code",
   "execution_count": 20,
   "metadata": {
    "colab": {
     "base_uri": "https://localhost:8080/",
     "height": 134
    },
    "id": "IA0yApEmBG1X",
    "outputId": "6cbde4b9-f57f-4030-b4c3-a950a902d08a"
   },
   "outputs": [
    {
     "name": "stdout",
     "output_type": "stream",
     "text": [
      "[[ 9.18  6.4 ]\n",
      " [92.06 91.2 ]\n",
      " [34.42 38.  ]\n",
      " ...\n",
      " [ 5.21  3.5 ]\n",
      " [11.47  8.7 ]\n",
      " [-1.2   2.15]]\n"
     ]
    }
   ],
   "source": [
    "y_pred = ann.predict(X_test)\n",
    "np.set_printoptions(precision=2)\n",
    "print(np.concatenate((y_pred.reshape(len(y_pred),1), y_test.reshape(len(y_test),1)),1))"
   ]
  },
  {
   "cell_type": "code",
   "execution_count": 21,
   "metadata": {
    "colab": {
     "base_uri": "https://localhost:8080/",
     "height": 372
    },
    "id": "BIJwg9l9KBKS",
    "outputId": "640f1088-d725-4d6e-8767-a66af25767bb"
   },
   "outputs": [
    {
     "data": {
      "text/plain": [
       "<matplotlib.axes._subplots.AxesSubplot at 0x234c86cf190>"
      ]
     },
     "execution_count": 21,
     "metadata": {},
     "output_type": "execute_result"
    },
    {
     "data": {
      "image/png": "[encoded data removed]",
      "text/plain": [
       "<Figure size 432x288 with 1 Axes>"
      ]
     },
     "metadata": {
      "needs_background": "light"
     },
     "output_type": "display_data"
    }
   ],
   "source": [
    "ax1 = sns.distplot(y_test, hist=False, color=\"r\", label=\"Actual Value\")\n",
    "sns.distplot(y_pred, hist=False, color=\"b\", label=\"Predicted Values\" , ax=ax1)"
   ]
  },
  {
   "cell_type": "code",
   "execution_count": 22,
   "metadata": {
    "colab": {
     "base_uri": "https://localhost:8080/",
     "height": 296
    },
    "id": "8HZKftJ7UBva",
    "outputId": "2ff43613-a350-4e7d-91cd-8ae449ebb30f"
   },
   "outputs": [
    {
     "data": {
      "text/plain": [
       "Text(0, 0.5, 'Predicted Critical Temperature (K)')"
      ]
     },
     "execution_count": 22,
     "metadata": {},
     "output_type": "execute_result"
    },
    {
     "data": {
      "image/png": "[encoded data removed]",
      "text/plain": [
       "<Figure size 432x288 with 1 Axes>"
      ]
     },
     "metadata": {
      "needs_background": "light"
     },
     "output_type": "display_data"
    }
   ],
   "source": [
    "plt.scatter(y_test, y_pred, color='blue')\n",
    "plt.xlabel('Observed Critical Temperature (K)')\n",
    "plt.ylabel('Predicted Critical Temperature (K)')"
   ]
  },
  {
   "cell_type": "code",
   "execution_count": 23,
   "metadata": {},
   "outputs": [
    {
     "data": {
      "text/plain": [
       "<matplotlib.axes._subplots.AxesSubplot at 0x234c93a0430>"
      ]
     },
     "execution_count": 23,
     "metadata": {},
     "output_type": "execute_result"
    },
    {
     "data": {
      "image/png": "[encoded data removed]",
      "text/plain": [
       "<Figure size 432x288 with 1 Axes>"
      ]
     },
     "metadata": {
      "needs_background": "light"
     },
     "output_type": "display_data"
    }
   ],
   "source": [
    "loss_function = pd.DataFrame(history.history)\n",
    "loss_function.plot()"
   ]
  },
  {
   "cell_type": "code",
   "execution_count": 24,
   "metadata": {},
   "outputs": [
    {
     "data": {
      "text/plain": [
       "0      23.458165\n",
       "1      17.645433\n",
       "2      16.963332\n",
       "3      16.645416\n",
       "4      16.628199\n",
       "         ...    \n",
       "251     9.835558\n",
       "252    10.001525\n",
       "253     9.955546\n",
       "254     9.829079\n",
       "255     9.789303\n",
       "Name: loss, Length: 256, dtype: float64"
      ]
     },
     "execution_count": 24,
     "metadata": {},
     "output_type": "execute_result"
    }
   ],
   "source": [
    "np.sqrt(loss_function['loss'])"
   ]
  },
  {
   "cell_type": "code",
   "execution_count": 25,
   "metadata": {},
   "outputs": [
    {
     "data": {
      "text/plain": [
       "0      17.724647\n",
       "1      16.397821\n",
       "2      16.168200\n",
       "3      15.930634\n",
       "4      15.495691\n",
       "         ...    \n",
       "251    10.582586\n",
       "252    11.047156\n",
       "253    10.642541\n",
       "254    10.729272\n",
       "255    10.684695\n",
       "Name: val_loss, Length: 256, dtype: float64"
      ]
     },
     "execution_count": 25,
     "metadata": {},
     "output_type": "execute_result"
    }
   ],
   "source": [
    "np.sqrt(loss_function['val_loss'])"
   ]
  },
  {
   "cell_type": "code",
   "execution_count": null,
   "metadata": {},
   "outputs": [],
   "source": [
    "\n",
    "\n"
   ]
  }
 ],
 "metadata": {
  "colab": {
   "collapsed_sections": [],
   "name": "Superconductivity_Data_set.ipynb",
   "provenance": [],
   "toc_visible": true
  },
  "kernelspec": {
   "display_name": "Python 3",
   "language": "python",
   "name": "python3"
  },
  "language_info": {
   "codemirror_mode": {
    "name": "ipython",
    "version": 3
   },
   "file_extension": ".py",
   "mimetype": "text/x-python",
   "name": "python",
   "nbconvert_exporter": "python",
   "pygments_lexer": "ipython3",
   "version": "3.8.3"
  }
 },
 "nbformat": 4,
 "nbformat_minor": 1
}
