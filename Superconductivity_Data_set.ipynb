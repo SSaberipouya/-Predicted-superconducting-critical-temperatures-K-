{
  "nbformat": 4,
  "nbformat_minor": 0,
  "metadata": {
    "colab": {
      "name": "Superconductivity_Data_set.ipynb",
      "provenance": [],
      "collapsed_sections": [],
      "toc_visible": true,
      "include_colab_link": true
    },
    "kernelspec": {
      "name": "python3",
      "display_name": "Python 3"
    }
  },
  "cells": [
    {
      "cell_type": "markdown",
      "metadata": {
        "id": "view-in-github",
        "colab_type": "text"
      },
      "source": [
        "<a href=\"https://colab.research.google.com/github/SSaberipouya/-Predicted-superconducting-critical-temperatures-K-/blob/master/Superconductivity_Data_set.ipynb\" target=\"_parent\"><img src=\"https://colab.research.google.com/assets/colab-badge.svg\" alt=\"Open In Colab\"/></a>"
      ]
    },
    {
      "cell_type": "markdown",
      "metadata": {
        "id": "3cbb7fRy-eyr",
        "colab_type": "text"
      },
      "source": [
        "# Predict the critical temperature based on the features extracted using Artificial Neural Network"
      ]
    },
    {
      "cell_type": "markdown",
      "metadata": {
        "id": "8sNDnxE2-pwE",
        "colab_type": "text"
      },
      "source": [
        "### Importing the libraries"
      ]
    },
    {
      "cell_type": "code",
      "metadata": {
        "id": "lxChR1Rk-umf",
        "colab_type": "code",
        "colab": {}
      },
      "source": [
        "import numpy as np\n",
        "import pandas as pd\n",
        "import tensorflow as tf"
      ],
      "execution_count": 94,
      "outputs": []
    },
    {
      "cell_type": "code",
      "metadata": {
        "id": "uBTqR3nacj0e",
        "colab_type": "code",
        "colab": {
          "base_uri": "https://localhost:8080/",
          "height": 35
        },
        "outputId": "39808e02-16e3-44b6-e1b2-5352c109424f"
      },
      "source": [
        "tf.__version__"
      ],
      "execution_count": 95,
      "outputs": [
        {
          "output_type": "execute_result",
          "data": {
            "application/vnd.google.colaboratory.intrinsic+json": {
              "type": "string"
            },
            "text/plain": [
              "'2.3.0'"
            ]
          },
          "metadata": {
            "tags": []
          },
          "execution_count": 95
        }
      ]
    },
    {
      "cell_type": "markdown",
      "metadata": {
        "id": "AG3FQEch-yuA",
        "colab_type": "text"
      },
      "source": [
        "## Part 1 - Data Preprocessing"
      ]
    },
    {
      "cell_type": "markdown",
      "metadata": {
        "id": "-4zq8Mza_D9O",
        "colab_type": "text"
      },
      "source": [
        "### Importing the dataset"
      ]
    },
    {
      "cell_type": "code",
      "metadata": {
        "id": "B9CV13Co_HHM",
        "colab_type": "code",
        "colab": {}
      },
      "source": [
        "dataset = pd.read_csv('train.csv')\n",
        "X = dataset.iloc[:, :-1].values\n",
        "y = dataset.iloc[:, -1].values"
      ],
      "execution_count": 96,
      "outputs": []
    },
    {
      "cell_type": "code",
      "metadata": {
        "id": "ZhBAiSJlALxp",
        "colab_type": "code",
        "colab": {
          "base_uri": "https://localhost:8080/",
          "height": 136
        },
        "outputId": "5cd3651c-afe9-43c8-9575-27527ffdd2b9"
      },
      "source": [
        "X"
      ],
      "execution_count": 97,
      "outputs": [
        {
          "output_type": "execute_result",
          "data": {
            "text/plain": [
              "array([[ 4.  , 88.94, 57.86, ...,  1.09,  0.43,  0.44],\n",
              "       [ 5.  , 92.73, 58.52, ...,  1.13,  0.63,  0.47],\n",
              "       [ 4.  , 88.94, 57.89, ...,  1.11,  0.43,  0.44],\n",
              "       ...,\n",
              "       [ 2.  , 99.66, 95.61, ...,  3.2 ,  0.5 ,  0.4 ],\n",
              "       [ 2.  , 99.66, 97.1 , ...,  2.21,  0.5 ,  0.46],\n",
              "       [ 3.  , 87.47, 86.86, ...,  1.8 ,  1.41,  1.5 ]])"
            ]
          },
          "metadata": {
            "tags": []
          },
          "execution_count": 97
        }
      ]
    },
    {
      "cell_type": "markdown",
      "metadata": {
        "id": "VC6omXel_Up0",
        "colab_type": "text"
      },
      "source": [
        "### Splitting the dataset into the Training set and Test set"
      ]
    },
    {
      "cell_type": "code",
      "metadata": {
        "id": "L5edeb2r_agx",
        "colab_type": "code",
        "colab": {}
      },
      "source": [
        "from sklearn.model_selection import train_test_split\n",
        "X_train, X_test, y_train, y_test = train_test_split(X, y, test_size = 0.2, random_state = 0)"
      ],
      "execution_count": 98,
      "outputs": []
    },
    {
      "cell_type": "markdown",
      "metadata": {
        "id": "_mSLlAT9_eyI",
        "colab_type": "text"
      },
      "source": [
        "## Part 2 - Building the ANN"
      ]
    },
    {
      "cell_type": "markdown",
      "metadata": {
        "id": "CsBULd_f_wLY",
        "colab_type": "text"
      },
      "source": [
        "### Initializing the ANN"
      ]
    },
    {
      "cell_type": "code",
      "metadata": {
        "id": "J6Hd97Ls__Nz",
        "colab_type": "code",
        "colab": {}
      },
      "source": [
        "ann = tf.keras.models.Sequential()"
      ],
      "execution_count": 106,
      "outputs": []
    },
    {
      "cell_type": "markdown",
      "metadata": {
        "id": "iitAFJS_ABUn",
        "colab_type": "text"
      },
      "source": [
        "### Adding the input layer and the first hidden layer"
      ]
    },
    {
      "cell_type": "code",
      "metadata": {
        "id": "ksO_Vv40AHix",
        "colab_type": "code",
        "colab": {}
      },
      "source": [
        "ann.add(tf.keras.layers.Dense(units=6, activation='relu'))"
      ],
      "execution_count": 107,
      "outputs": []
    },
    {
      "cell_type": "markdown",
      "metadata": {
        "id": "-lb4kK_wAKbs",
        "colab_type": "text"
      },
      "source": [
        "### Adding the second hidden layer"
      ]
    },
    {
      "cell_type": "code",
      "metadata": {
        "id": "c2357OqEAQOQ",
        "colab_type": "code",
        "colab": {}
      },
      "source": [
        "ann.add(tf.keras.layers.Dense(units=6, activation='relu'))"
      ],
      "execution_count": 108,
      "outputs": []
    },
    {
      "cell_type": "markdown",
      "metadata": {
        "id": "jwMOmKb3AdBY",
        "colab_type": "text"
      },
      "source": [
        "### Adding the output layer"
      ]
    },
    {
      "cell_type": "code",
      "metadata": {
        "id": "YFATpzsUAkLL",
        "colab_type": "code",
        "colab": {}
      },
      "source": [
        "ann.add(tf.keras.layers.Dense(units=1))"
      ],
      "execution_count": 109,
      "outputs": []
    },
    {
      "cell_type": "markdown",
      "metadata": {
        "id": "fq7e4fF6A1yy",
        "colab_type": "text"
      },
      "source": [
        "## Part 3 - Training the ANN"
      ]
    },
    {
      "cell_type": "markdown",
      "metadata": {
        "id": "qDeylAs2An25",
        "colab_type": "text"
      },
      "source": [
        "### Compiling the ANN"
      ]
    },
    {
      "cell_type": "code",
      "metadata": {
        "id": "pesgbWlCAtB4",
        "colab_type": "code",
        "colab": {}
      },
      "source": [
        "ann.compile(optimizer = 'adam', loss = 'mean_squared_error')"
      ],
      "execution_count": 110,
      "outputs": []
    },
    {
      "cell_type": "markdown",
      "metadata": {
        "id": "YjVuiybYOo7r",
        "colab_type": "text"
      },
      "source": [
        "### Training the ANN model on the Training set"
      ]
    },
    {
      "cell_type": "code",
      "metadata": {
        "id": "c_vV-tiiA5zn",
        "colab_type": "code",
        "colab": {
          "base_uri": "https://localhost:8080/",
          "height": 1000
        },
        "outputId": "15d4561d-7ebe-4b78-d659-d0ebc5ad9795"
      },
      "source": [
        "ann.fit(X_train, y_train, batch_size = 32, epochs = 100)"
      ],
      "execution_count": 113,
      "outputs": [
        {
          "output_type": "stream",
          "text": [
            "Epoch 1/100\n",
            "532/532 [==============================] - 1s 2ms/step - loss: 259.5539\n",
            "Epoch 2/100\n",
            "532/532 [==============================] - 1s 2ms/step - loss: 253.2380\n",
            "Epoch 3/100\n",
            "532/532 [==============================] - 1s 2ms/step - loss: 258.7448\n",
            "Epoch 4/100\n",
            "532/532 [==============================] - 1s 1ms/step - loss: 256.0149\n",
            "Epoch 5/100\n",
            "532/532 [==============================] - 1s 1ms/step - loss: 258.3920\n",
            "Epoch 6/100\n",
            "532/532 [==============================] - 1s 1ms/step - loss: 258.6342\n",
            "Epoch 7/100\n",
            "532/532 [==============================] - 1s 1ms/step - loss: 266.4715\n",
            "Epoch 8/100\n",
            "532/532 [==============================] - 1s 1ms/step - loss: 257.5913\n",
            "Epoch 9/100\n",
            "532/532 [==============================] - 1s 2ms/step - loss: 252.7754\n",
            "Epoch 10/100\n",
            "532/532 [==============================] - 1s 1ms/step - loss: 256.6287\n",
            "Epoch 11/100\n",
            "532/532 [==============================] - 1s 2ms/step - loss: 258.2202\n",
            "Epoch 12/100\n",
            "532/532 [==============================] - 1s 1ms/step - loss: 254.6498\n",
            "Epoch 13/100\n",
            "532/532 [==============================] - 1s 1ms/step - loss: 254.2612\n",
            "Epoch 14/100\n",
            "532/532 [==============================] - 1s 1ms/step - loss: 256.8578\n",
            "Epoch 15/100\n",
            "532/532 [==============================] - 1s 1ms/step - loss: 262.7144\n",
            "Epoch 16/100\n",
            "532/532 [==============================] - 1s 1ms/step - loss: 247.1275\n",
            "Epoch 17/100\n",
            "532/532 [==============================] - 1s 1ms/step - loss: 256.8997\n",
            "Epoch 18/100\n",
            "532/532 [==============================] - 1s 1ms/step - loss: 261.5455\n",
            "Epoch 19/100\n",
            "532/532 [==============================] - 1s 1ms/step - loss: 259.2050\n",
            "Epoch 20/100\n",
            "532/532 [==============================] - 1s 2ms/step - loss: 258.2307\n",
            "Epoch 21/100\n",
            "532/532 [==============================] - 1s 2ms/step - loss: 255.4080\n",
            "Epoch 22/100\n",
            "532/532 [==============================] - 1s 1ms/step - loss: 256.0133\n",
            "Epoch 23/100\n",
            "532/532 [==============================] - 1s 2ms/step - loss: 258.6540\n",
            "Epoch 24/100\n",
            "532/532 [==============================] - 1s 2ms/step - loss: 255.7695\n",
            "Epoch 25/100\n",
            "532/532 [==============================] - 1s 1ms/step - loss: 253.8324\n",
            "Epoch 26/100\n",
            "532/532 [==============================] - 1s 2ms/step - loss: 255.2190\n",
            "Epoch 27/100\n",
            "532/532 [==============================] - 1s 2ms/step - loss: 255.7310\n",
            "Epoch 28/100\n",
            "532/532 [==============================] - 1s 2ms/step - loss: 257.1708\n",
            "Epoch 29/100\n",
            "532/532 [==============================] - 1s 2ms/step - loss: 249.5621\n",
            "Epoch 30/100\n",
            "532/532 [==============================] - 1s 2ms/step - loss: 256.3652\n",
            "Epoch 31/100\n",
            "532/532 [==============================] - 1s 2ms/step - loss: 254.3539\n",
            "Epoch 32/100\n",
            "532/532 [==============================] - 1s 1ms/step - loss: 253.9312\n",
            "Epoch 33/100\n",
            "532/532 [==============================] - 1s 1ms/step - loss: 257.8329\n",
            "Epoch 34/100\n",
            "532/532 [==============================] - 1s 1ms/step - loss: 272.2531\n",
            "Epoch 35/100\n",
            "532/532 [==============================] - 1s 1ms/step - loss: 254.1509\n",
            "Epoch 36/100\n",
            "532/532 [==============================] - 1s 2ms/step - loss: 253.0087\n",
            "Epoch 37/100\n",
            "532/532 [==============================] - 1s 1ms/step - loss: 264.1035\n",
            "Epoch 38/100\n",
            "532/532 [==============================] - 1s 1ms/step - loss: 254.0568\n",
            "Epoch 39/100\n",
            "532/532 [==============================] - 1s 2ms/step - loss: 252.3674\n",
            "Epoch 40/100\n",
            "532/532 [==============================] - 1s 1ms/step - loss: 254.8675\n",
            "Epoch 41/100\n",
            "532/532 [==============================] - 1s 1ms/step - loss: 249.5447\n",
            "Epoch 42/100\n",
            "532/532 [==============================] - 1s 2ms/step - loss: 255.3235\n",
            "Epoch 43/100\n",
            "532/532 [==============================] - 1s 1ms/step - loss: 256.8536\n",
            "Epoch 44/100\n",
            "532/532 [==============================] - 1s 1ms/step - loss: 257.2481\n",
            "Epoch 45/100\n",
            "532/532 [==============================] - 1s 1ms/step - loss: 254.2234\n",
            "Epoch 46/100\n",
            "532/532 [==============================] - 1s 2ms/step - loss: 256.6171\n",
            "Epoch 47/100\n",
            "532/532 [==============================] - 1s 1ms/step - loss: 255.3056\n",
            "Epoch 48/100\n",
            "532/532 [==============================] - 1s 1ms/step - loss: 255.7167\n",
            "Epoch 49/100\n",
            "532/532 [==============================] - 1s 2ms/step - loss: 247.2483\n",
            "Epoch 50/100\n",
            "532/532 [==============================] - 1s 2ms/step - loss: 261.1712\n",
            "Epoch 51/100\n",
            "532/532 [==============================] - 1s 1ms/step - loss: 256.1969\n",
            "Epoch 52/100\n",
            "532/532 [==============================] - 1s 1ms/step - loss: 252.0578\n",
            "Epoch 53/100\n",
            "532/532 [==============================] - 1s 1ms/step - loss: 249.2137\n",
            "Epoch 54/100\n",
            "532/532 [==============================] - 1s 1ms/step - loss: 254.4975\n",
            "Epoch 55/100\n",
            "532/532 [==============================] - 1s 1ms/step - loss: 254.0609\n",
            "Epoch 56/100\n",
            "532/532 [==============================] - 1s 1ms/step - loss: 264.7395\n",
            "Epoch 57/100\n",
            "532/532 [==============================] - 1s 2ms/step - loss: 254.2721\n",
            "Epoch 58/100\n",
            "532/532 [==============================] - 1s 2ms/step - loss: 253.2036\n",
            "Epoch 59/100\n",
            "532/532 [==============================] - 1s 2ms/step - loss: 252.9869\n",
            "Epoch 60/100\n",
            "532/532 [==============================] - 1s 1ms/step - loss: 248.2778\n",
            "Epoch 61/100\n",
            "532/532 [==============================] - 1s 2ms/step - loss: 250.4918\n",
            "Epoch 62/100\n",
            "532/532 [==============================] - 1s 1ms/step - loss: 255.2921\n",
            "Epoch 63/100\n",
            "532/532 [==============================] - 1s 1ms/step - loss: 254.9187\n",
            "Epoch 64/100\n",
            "532/532 [==============================] - 1s 1ms/step - loss: 251.0774\n",
            "Epoch 65/100\n",
            "532/532 [==============================] - 1s 2ms/step - loss: 264.2884\n",
            "Epoch 66/100\n",
            "532/532 [==============================] - 1s 1ms/step - loss: 257.2677\n",
            "Epoch 67/100\n",
            "532/532 [==============================] - 1s 1ms/step - loss: 250.1282\n",
            "Epoch 68/100\n",
            "532/532 [==============================] - 1s 2ms/step - loss: 251.3473\n",
            "Epoch 69/100\n",
            "532/532 [==============================] - 1s 1ms/step - loss: 250.1798\n",
            "Epoch 70/100\n",
            "532/532 [==============================] - 1s 1ms/step - loss: 250.1992\n",
            "Epoch 71/100\n",
            "532/532 [==============================] - 1s 1ms/step - loss: 253.2211\n",
            "Epoch 72/100\n",
            "532/532 [==============================] - 1s 1ms/step - loss: 247.1063\n",
            "Epoch 73/100\n",
            "532/532 [==============================] - 1s 2ms/step - loss: 249.8414\n",
            "Epoch 74/100\n",
            "532/532 [==============================] - 1s 1ms/step - loss: 263.0695\n",
            "Epoch 75/100\n",
            "532/532 [==============================] - 1s 2ms/step - loss: 255.4113\n",
            "Epoch 76/100\n",
            "532/532 [==============================] - 1s 1ms/step - loss: 251.4508\n",
            "Epoch 77/100\n",
            "532/532 [==============================] - 1s 2ms/step - loss: 251.2649\n",
            "Epoch 78/100\n",
            "532/532 [==============================] - 1s 1ms/step - loss: 251.8684\n",
            "Epoch 79/100\n",
            "532/532 [==============================] - 1s 1ms/step - loss: 251.0657\n",
            "Epoch 80/100\n",
            "532/532 [==============================] - 1s 2ms/step - loss: 251.6497\n",
            "Epoch 81/100\n",
            "532/532 [==============================] - 1s 2ms/step - loss: 254.2647\n",
            "Epoch 82/100\n",
            "532/532 [==============================] - 1s 2ms/step - loss: 250.1272\n",
            "Epoch 83/100\n",
            "532/532 [==============================] - 1s 2ms/step - loss: 256.2900\n",
            "Epoch 84/100\n",
            "532/532 [==============================] - 1s 2ms/step - loss: 256.2589\n",
            "Epoch 85/100\n",
            "532/532 [==============================] - 1s 2ms/step - loss: 247.4562\n",
            "Epoch 86/100\n",
            "532/532 [==============================] - 1s 2ms/step - loss: 251.2903\n",
            "Epoch 87/100\n",
            "532/532 [==============================] - 1s 2ms/step - loss: 251.6152\n",
            "Epoch 88/100\n",
            "532/532 [==============================] - 1s 2ms/step - loss: 254.2107\n",
            "Epoch 89/100\n",
            "532/532 [==============================] - 1s 2ms/step - loss: 251.5049\n",
            "Epoch 90/100\n",
            "532/532 [==============================] - 1s 2ms/step - loss: 252.1405\n",
            "Epoch 91/100\n",
            "532/532 [==============================] - 1s 2ms/step - loss: 251.1156\n",
            "Epoch 92/100\n",
            "532/532 [==============================] - 1s 2ms/step - loss: 252.8269\n",
            "Epoch 93/100\n",
            "532/532 [==============================] - 1s 2ms/step - loss: 255.6238\n",
            "Epoch 94/100\n",
            "532/532 [==============================] - 1s 1ms/step - loss: 252.2718\n",
            "Epoch 95/100\n",
            "532/532 [==============================] - 1s 2ms/step - loss: 250.4830\n",
            "Epoch 96/100\n",
            "532/532 [==============================] - 1s 1ms/step - loss: 252.5258\n",
            "Epoch 97/100\n",
            "532/532 [==============================] - 1s 1ms/step - loss: 248.3064\n",
            "Epoch 98/100\n",
            "532/532 [==============================] - 1s 1ms/step - loss: 253.7199\n",
            "Epoch 99/100\n",
            "532/532 [==============================] - 1s 2ms/step - loss: 250.5318\n",
            "Epoch 100/100\n",
            "532/532 [==============================] - 1s 1ms/step - loss: 251.7224\n"
          ],
          "name": "stdout"
        },
        {
          "output_type": "execute_result",
          "data": {
            "text/plain": [
              "<tensorflow.python.keras.callbacks.History at 0x7fcda9369240>"
            ]
          },
          "metadata": {
            "tags": []
          },
          "execution_count": 113
        }
      ]
    },
    {
      "cell_type": "markdown",
      "metadata": {
        "id": "0H0zKKNEBLD5",
        "colab_type": "text"
      },
      "source": [
        "### Predicting the results of the Test set"
      ]
    },
    {
      "cell_type": "code",
      "metadata": {
        "id": "IA0yApEmBG1X",
        "colab_type": "code",
        "colab": {
          "base_uri": "https://localhost:8080/",
          "height": 136
        },
        "outputId": "1b0d8a65-462d-420b-d136-f0a9f7cc1770"
      },
      "source": [
        "y_pred = ann.predict(X_test)\n",
        "np.set_printoptions(precision=2)\n",
        "print(np.concatenate((y_pred.reshape(len(y_pred),1), y_test.reshape(len(y_test),1)),1))"
      ],
      "execution_count": 114,
      "outputs": [
        {
          "output_type": "stream",
          "text": [
            "[[57.85 85.  ]\n",
            " [56.8  85.5 ]\n",
            " [25.04 11.6 ]\n",
            " ...\n",
            " [21.76  0.46]\n",
            " [22.53 34.  ]\n",
            " [59.8  16.5 ]]\n"
          ],
          "name": "stdout"
        }
      ]
    },
    {
      "cell_type": "code",
      "metadata": {
        "id": "BIJwg9l9KBKS",
        "colab_type": "code",
        "colab": {
          "base_uri": "https://localhost:8080/",
          "height": 282
        },
        "outputId": "3982eff1-5fd4-450a-ad8d-f200185dc803"
      },
      "source": [
        "import seaborn as sns\n",
        "ax1 = sns.distplot(y_test, hist=False, color=\"r\", label=\"Actual Value\")\n",
        "sns.distplot(y_pred, hist=False, color=\"b\", label=\"Predicted Values\" , ax=ax1)"
      ],
      "execution_count": 119,
      "outputs": [
        {
          "output_type": "execute_result",
          "data": {
            "text/plain": [
              "<matplotlib.axes._subplots.AxesSubplot at 0x7fcda5e82080>"
            ]
          },
          "metadata": {
            "tags": []
          },
          "execution_count": 119
        },
        {
          "output_type": "display_data",
          "data": {
            "image/png": "[encoded data removed]",
            "text/plain": [
              "<Figure size 432x288 with 1 Axes>"
            ]
          },
          "metadata": {
            "tags": [],
            "needs_background": "light"
          }
        }
      ]
    },
    {
      "cell_type": "code",
      "metadata": {
        "id": "8HZKftJ7UBva",
        "colab_type": "code",
        "colab": {
          "base_uri": "https://localhost:8080/",
          "height": 296
        },
        "outputId": "98503b14-8467-43fb-bf95-c02193c2fb14"
      },
      "source": [
        "import matplotlib.pyplot as plt\n",
        "plt.scatter(y_test, y_pred, color='blue')\n",
        "plt.xlabel('Observed Critical Temperature (K)')\n",
        "plt.ylabel('Predicted Critical Temperature (K)')"
      ],
      "execution_count": 127,
      "outputs": [
        {
          "output_type": "execute_result",
          "data": {
            "text/plain": [
              "Text(0, 0.5, 'Predicted Critical Temperature (K)')"
            ]
          },
          "metadata": {
            "tags": []
          },
          "execution_count": 127
        },
        {
          "output_type": "display_data",
          "data": {
            "image/png": "[encoded data removed]",
            "text/plain": [
              "<Figure size 432x288 with 1 Axes>"
            ]
          },
          "metadata": {
            "tags": [],
            "needs_background": "light"
          }
        }
      ]
    }
  ]
}